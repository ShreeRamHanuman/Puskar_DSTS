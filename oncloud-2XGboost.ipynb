{
 "cells": [
  {
   "cell_type": "markdown",
   "id": "231895bf",
   "metadata": {},
   "source": [
    "# Problem: Predicting Airplane Delays\n",
    "\n",
    "Puskar K C\n"
   ]
  },
  {
   "cell_type": "markdown",
   "id": "1c01931a",
   "metadata": {},
   "source": [
    "# Project Follow\n",
    "1. Start a lab.\n",
    "2. Create a notebook instance and name it \"oncloudproject\".\n",
    "3. Increase the used memory to 25 GB from the additional configurations.\n",
    "4. Open Jupyter Lab and upload this notebook into it.\n",
    "5. Upload the two combined CVS files (combined_csv_v1.csv and combined_csv_v2.csv), which you created in Part A of this project."
   ]
  },
  {
   "cell_type": "markdown",
   "id": "bcfe1a8f",
   "metadata": {},
   "source": [
    "## This file contains the Uploaded CSV file V1 and V2 model fitting and accuracy testing with the required comparision"
   ]
  },
  {
   "cell_type": "markdown",
   "id": "c3f81955",
   "metadata": {},
   "source": [
    "### Note book created OnCloud Project"
   ]
  },
  {
   "cell_type": "markdown",
   "id": "a23c455a",
   "metadata": {},
   "source": [
    "### Uploading the compressed file in server and extracting"
   ]
  },
  {
   "cell_type": "code",
   "execution_count": 1,
   "id": "183fd685",
   "metadata": {},
   "outputs": [],
   "source": [
    "### Extract Zip Files in AWS One time only.\n",
    "import zipfile\n",
    "zip_file_path = 'combined1.zip' \n",
    "extracted_dir = 'zipExtract/' \n",
    "with zipfile.ZipFile(zip_file_path, 'r') as zip_ref:\n",
    "    zip_ref.extractall(extracted_dir)\n",
    "\n",
    "zip_file_path = 'combined2.zip' \n",
    "extracted_dir = 'zipExtract/' \n",
    "with zipfile.ZipFile(zip_file_path, 'r') as zip_ref:\n",
    "    zip_ref.extractall(extracted_dir)"
   ]
  },
  {
   "cell_type": "markdown",
   "id": "0da56a9d",
   "metadata": {},
   "source": [
    "### Importing Required Library"
   ]
  },
  {
   "cell_type": "code",
   "execution_count": 33,
   "id": "5880fb30",
   "metadata": {},
   "outputs": [
    {
     "name": "stdout",
     "output_type": "stream",
     "text": [
      "sagemaker.config INFO - Not applying SDK defaults from location: /etc/xdg/sagemaker/config.yaml\n",
      "sagemaker.config INFO - Not applying SDK defaults from location: /home/ec2-user/.config/sagemaker/config.yaml\n"
     ]
    }
   ],
   "source": [
    "# import required Library\n",
    "import pandas as pd\n",
    "import numpy as np\n",
    "import os\n",
    "import boto3\n",
    "import sagemaker\n",
    "from sagemaker.image_uris import retrieve\n",
    "from sklearn.model_selection import train_test_split\n",
    "import warnings, requests, zipfile, io\n",
    "from sagemaker import image_uris\n",
    "from sagemaker.estimator import Estimator\n",
    "from sklearn.metrics import accuracy_score, precision_score, recall_score, f1_score\n",
    "session = sagemaker.Session()\n",
    "bucket = session.default_bucket()\n",
    "region = boto3.Session().region_name\n",
    "import io\n",
    "import seaborn as sns"
   ]
  },
  {
   "cell_type": "code",
   "execution_count": 3,
   "id": "00855383",
   "metadata": {},
   "outputs": [],
   "source": [
    "df1 = pd.read_csv(\"zipExtract/combined_csv_v1.csv\",low_memory=False)\n",
    "#df1 = df1.replace({True: 1, False: 0})\n",
    "df2 = pd.read_csv(\"zipExtract/combined_csv_v2.csv\",low_memory=False)\n",
    "df2 = df2.replace({True: 1, False: 0})"
   ]
  },
  {
   "cell_type": "code",
   "execution_count": 6,
   "id": "aed0dbee",
   "metadata": {},
   "outputs": [
    {
     "data": {
      "text/html": [
       "<div>\n",
       "<style scoped>\n",
       "    .dataframe tbody tr th:only-of-type {\n",
       "        vertical-align: middle;\n",
       "    }\n",
       "\n",
       "    .dataframe tbody tr th {\n",
       "        vertical-align: top;\n",
       "    }\n",
       "\n",
       "    .dataframe thead th {\n",
       "        text-align: right;\n",
       "    }\n",
       "</style>\n",
       "<table border=\"1\" class=\"dataframe\">\n",
       "  <thead>\n",
       "    <tr style=\"text-align: right;\">\n",
       "      <th></th>\n",
       "      <th>target</th>\n",
       "      <th>Distance</th>\n",
       "      <th>Quarter_2</th>\n",
       "      <th>Quarter_3</th>\n",
       "      <th>Quarter_4</th>\n",
       "      <th>Month_2</th>\n",
       "      <th>Month_3</th>\n",
       "      <th>Month_4</th>\n",
       "      <th>Month_5</th>\n",
       "      <th>Month_6</th>\n",
       "      <th>...</th>\n",
       "      <th>DepHourofDay_14</th>\n",
       "      <th>DepHourofDay_15</th>\n",
       "      <th>DepHourofDay_16</th>\n",
       "      <th>DepHourofDay_17</th>\n",
       "      <th>DepHourofDay_18</th>\n",
       "      <th>DepHourofDay_19</th>\n",
       "      <th>DepHourofDay_20</th>\n",
       "      <th>DepHourofDay_21</th>\n",
       "      <th>DepHourofDay_22</th>\n",
       "      <th>DepHourofDay_23</th>\n",
       "    </tr>\n",
       "  </thead>\n",
       "  <tbody>\n",
       "    <tr>\n",
       "      <th>0</th>\n",
       "      <td>0.0</td>\n",
       "      <td>1464.0</td>\n",
       "      <td>0</td>\n",
       "      <td>0</td>\n",
       "      <td>1</td>\n",
       "      <td>0</td>\n",
       "      <td>0</td>\n",
       "      <td>0</td>\n",
       "      <td>0</td>\n",
       "      <td>0</td>\n",
       "      <td>...</td>\n",
       "      <td>0</td>\n",
       "      <td>0</td>\n",
       "      <td>0</td>\n",
       "      <td>0</td>\n",
       "      <td>0</td>\n",
       "      <td>0</td>\n",
       "      <td>0</td>\n",
       "      <td>0</td>\n",
       "      <td>0</td>\n",
       "      <td>0</td>\n",
       "    </tr>\n",
       "    <tr>\n",
       "      <th>1</th>\n",
       "      <td>1.0</td>\n",
       "      <td>1464.0</td>\n",
       "      <td>0</td>\n",
       "      <td>0</td>\n",
       "      <td>1</td>\n",
       "      <td>0</td>\n",
       "      <td>0</td>\n",
       "      <td>0</td>\n",
       "      <td>0</td>\n",
       "      <td>0</td>\n",
       "      <td>...</td>\n",
       "      <td>0</td>\n",
       "      <td>0</td>\n",
       "      <td>0</td>\n",
       "      <td>0</td>\n",
       "      <td>0</td>\n",
       "      <td>0</td>\n",
       "      <td>0</td>\n",
       "      <td>0</td>\n",
       "      <td>0</td>\n",
       "      <td>0</td>\n",
       "    </tr>\n",
       "    <tr>\n",
       "      <th>2</th>\n",
       "      <td>0.0</td>\n",
       "      <td>1464.0</td>\n",
       "      <td>0</td>\n",
       "      <td>0</td>\n",
       "      <td>1</td>\n",
       "      <td>0</td>\n",
       "      <td>0</td>\n",
       "      <td>0</td>\n",
       "      <td>0</td>\n",
       "      <td>0</td>\n",
       "      <td>...</td>\n",
       "      <td>0</td>\n",
       "      <td>0</td>\n",
       "      <td>0</td>\n",
       "      <td>0</td>\n",
       "      <td>0</td>\n",
       "      <td>0</td>\n",
       "      <td>0</td>\n",
       "      <td>0</td>\n",
       "      <td>0</td>\n",
       "      <td>0</td>\n",
       "    </tr>\n",
       "    <tr>\n",
       "      <th>3</th>\n",
       "      <td>0.0</td>\n",
       "      <td>1464.0</td>\n",
       "      <td>0</td>\n",
       "      <td>0</td>\n",
       "      <td>1</td>\n",
       "      <td>0</td>\n",
       "      <td>0</td>\n",
       "      <td>0</td>\n",
       "      <td>0</td>\n",
       "      <td>0</td>\n",
       "      <td>...</td>\n",
       "      <td>0</td>\n",
       "      <td>0</td>\n",
       "      <td>0</td>\n",
       "      <td>0</td>\n",
       "      <td>0</td>\n",
       "      <td>0</td>\n",
       "      <td>0</td>\n",
       "      <td>0</td>\n",
       "      <td>0</td>\n",
       "      <td>0</td>\n",
       "    </tr>\n",
       "    <tr>\n",
       "      <th>4</th>\n",
       "      <td>0.0</td>\n",
       "      <td>1464.0</td>\n",
       "      <td>0</td>\n",
       "      <td>0</td>\n",
       "      <td>1</td>\n",
       "      <td>0</td>\n",
       "      <td>0</td>\n",
       "      <td>0</td>\n",
       "      <td>0</td>\n",
       "      <td>0</td>\n",
       "      <td>...</td>\n",
       "      <td>0</td>\n",
       "      <td>0</td>\n",
       "      <td>0</td>\n",
       "      <td>0</td>\n",
       "      <td>0</td>\n",
       "      <td>0</td>\n",
       "      <td>0</td>\n",
       "      <td>0</td>\n",
       "      <td>0</td>\n",
       "      <td>0</td>\n",
       "    </tr>\n",
       "  </tbody>\n",
       "</table>\n",
       "<p>5 rows × 94 columns</p>\n",
       "</div>"
      ],
      "text/plain": [
       "   target  Distance  Quarter_2  Quarter_3  Quarter_4  Month_2  Month_3  \\\n",
       "0     0.0    1464.0          0          0          1        0        0   \n",
       "1     1.0    1464.0          0          0          1        0        0   \n",
       "2     0.0    1464.0          0          0          1        0        0   \n",
       "3     0.0    1464.0          0          0          1        0        0   \n",
       "4     0.0    1464.0          0          0          1        0        0   \n",
       "\n",
       "   Month_4  Month_5  Month_6  ...  DepHourofDay_14  DepHourofDay_15  \\\n",
       "0        0        0        0  ...                0                0   \n",
       "1        0        0        0  ...                0                0   \n",
       "2        0        0        0  ...                0                0   \n",
       "3        0        0        0  ...                0                0   \n",
       "4        0        0        0  ...                0                0   \n",
       "\n",
       "   DepHourofDay_16  DepHourofDay_17  DepHourofDay_18  DepHourofDay_19  \\\n",
       "0                0                0                0                0   \n",
       "1                0                0                0                0   \n",
       "2                0                0                0                0   \n",
       "3                0                0                0                0   \n",
       "4                0                0                0                0   \n",
       "\n",
       "   DepHourofDay_20  DepHourofDay_21  DepHourofDay_22  DepHourofDay_23  \n",
       "0                0                0                0                0  \n",
       "1                0                0                0                0  \n",
       "2                0                0                0                0  \n",
       "3                0                0                0                0  \n",
       "4                0                0                0                0  \n",
       "\n",
       "[5 rows x 94 columns]"
      ]
     },
     "execution_count": 6,
     "metadata": {},
     "output_type": "execute_result"
    }
   ],
   "source": [
    "df1 = df1.replace({True: 1, False: 0})\n",
    "df1.head()"
   ]
  },
  {
   "cell_type": "markdown",
   "id": "57b38080",
   "metadata": {},
   "source": [
    "### 1. Split Data into trainng, validation & testing set for CSV Version 1 from Part A for XG Boost"
   ]
  },
  {
   "cell_type": "code",
   "execution_count": 58,
   "id": "bf5e3d3e",
   "metadata": {},
   "outputs": [],
   "source": [
    "### Split Data into training, Validation & tesing set (70-15-15)% for data 1 version 1\n",
    "train, test_and_validate = train_test_split(df1, test_size=0.3)\n",
    "test, validate = train_test_split(test_and_validate, test_size=0.5)\n",
    "#train_file = 'train.csv'\n",
    "#test_file = 'test.csv'\n",
    "#validate_file = 'validate.csv'"
   ]
  },
  {
   "cell_type": "code",
   "execution_count": 59,
   "id": "17247b09",
   "metadata": {},
   "outputs": [],
   "source": [
    "X_test = test.drop(\"target\", axis =1)\n",
    "test_y = test[\"target\"]\n",
    "directory_path = 'data/v1b'\n",
    "\n",
    "# Check if the directory exists, and if not, create it\n",
    "if not os.path.exists(directory_path):\n",
    "    os.makedirs(directory_path)\n",
    "\n",
    "#file_path = os.path.join(directory_path, 'train_file')\n",
    "\n",
    "#with open(file_path, 'w') as file:\n",
    " #   file.write('This is some content.')\n",
    "\n",
    "train.to_csv(\"data/v1b/train.csv\", index = False, header = False)\n",
    "validate.to_csv(\"data/v1b/validation.csv\", index = False, header = False)\n",
    "X_test.to_csv(\"data/v1b/X_test.csv\", index = False, header = False)"
   ]
  },
  {
   "cell_type": "code",
   "execution_count": 60,
   "id": "9dcd28ec",
   "metadata": {},
   "outputs": [
    {
     "name": "stderr",
     "output_type": "stream",
     "text": [
      "INFO:sagemaker.image_uris:Ignoring unnecessary instance type: None.\n"
     ]
    }
   ],
   "source": [
    "container = image_uris.retrieve('xgboost', region,version='latest')"
   ]
  },
  {
   "cell_type": "markdown",
   "id": "dbc5aac6",
   "metadata": {},
   "source": [
    "### Uploading the file into S3 server"
   ]
  },
  {
   "cell_type": "code",
   "execution_count": 61,
   "id": "4af155b9",
   "metadata": {},
   "outputs": [],
   "source": [
    "### Uploading in AWS S3\n",
    "prefix = \"data_delay/v1b/\"\n",
    "train_path = session.upload_data(path=\"data/v1b/train.csv\", key_prefix=prefix + \"input/training\")\n",
    "valid_path = session.upload_data(path=\"data/v1b/validation.csv\", key_prefix=prefix + \"input/validation\" )\n",
    "X_test_path = session.upload_data(path=\"data/v1b/X_test.csv\", key_prefix=prefix + \"input/test\" )"
   ]
  },
  {
   "cell_type": "markdown",
   "id": "9b5cf7ab",
   "metadata": {},
   "source": [
    "## Checking the path"
   ]
  },
  {
   "cell_type": "code",
   "execution_count": null,
   "id": "629cdc8d",
   "metadata": {},
   "outputs": [],
   "source": [
    "print(train_path)\n",
    "print(valid_path)\n",
    "print(X_test_path)\n",
    "print(\"Files successfully uploaded in AWS SERVER !!!\")"
   ]
  },
  {
   "cell_type": "markdown",
   "id": "edab9dd0",
   "metadata": {},
   "source": [
    "## 2 Use xgboost Estimator to build a classification model in CSV v1 data"
   ]
  },
  {
   "cell_type": "code",
   "execution_count": 63,
   "id": "c73ce97d",
   "metadata": {},
   "outputs": [
    {
     "name": "stdout",
     "output_type": "stream",
     "text": [
      "sagemaker.config INFO - Not applying SDK defaults from location: /etc/xdg/sagemaker/config.yaml\n",
      "sagemaker.config INFO - Not applying SDK defaults from location: /home/ec2-user/.config/sagemaker/config.yaml\n",
      "sagemaker.config INFO - Not applying SDK defaults from location: /etc/xdg/sagemaker/config.yaml\n",
      "sagemaker.config INFO - Not applying SDK defaults from location: /home/ec2-user/.config/sagemaker/config.yaml\n"
     ]
    }
   ],
   "source": [
    "xgboost_model1 = Estimator(container, \n",
    "                              role=sagemaker.get_execution_role(), \n",
    "                              instance_count=1, \n",
    "                              instance_type='ml.m4.xlarge',\n",
    "                            output_path='s3://{}/{}v1b/output'.format(bucket,prefix))"
   ]
  },
  {
   "cell_type": "markdown",
   "id": "b90045fc",
   "metadata": {},
   "source": [
    "Setting Hyperparameter"
   ]
  },
  {
   "cell_type": "code",
   "execution_count": 64,
   "id": "ba05359c",
   "metadata": {},
   "outputs": [],
   "source": [
    "### Hyperparameter setting\n",
    "xgboost_model1.set_hyperparameters(objective='binary:logistic', num_round=20)\n"
   ]
  },
  {
   "cell_type": "code",
   "execution_count": 65,
   "id": "dad12cad",
   "metadata": {},
   "outputs": [],
   "source": [
    "training_data_channel = sagemaker.TrainingInput(s3_data=train_path, content_type='text/csv')\n",
    "validation_data_channel = sagemaker.TrainingInput(s3_data=valid_path, content_type='text/csv')"
   ]
  },
  {
   "cell_type": "markdown",
   "id": "0fe859ab",
   "metadata": {},
   "source": [
    "#### Fitting the Xgboost model"
   ]
  },
  {
   "cell_type": "code",
   "execution_count": 66,
   "id": "985cd092",
   "metadata": {},
   "outputs": [
    {
     "name": "stderr",
     "output_type": "stream",
     "text": [
      "INFO:sagemaker:Creating training-job with name: xgboost-2023-11-04-10-48-07-581\n"
     ]
    },
    {
     "name": "stdout",
     "output_type": "stream",
     "text": [
      "2023-11-04 10:48:07 Starting - Starting the training job...\n",
      "2023-11-04 10:48:32 Starting - Preparing the instances for training......\n",
      "2023-11-04 10:49:36 Downloading - Downloading input data......\n",
      "2023-11-04 10:50:27 Training - Downloading the training image...\n",
      "2023-11-04 10:50:42 Training - Training image download completed. Training in progress.\u001b[34mArguments: train\u001b[0m\n",
      "\u001b[34m[2023-11-04:10:50:59:INFO] Running standalone xgboost training.\u001b[0m\n",
      "\u001b[34m[2023-11-04:10:50:59:INFO] File size need to be processed in the node: 257.72mb. Available memory size in the node: 8555.57mb\u001b[0m\n",
      "\u001b[34m[2023-11-04:10:50:59:INFO] Determined delimiter of CSV input is ','\u001b[0m\n",
      "\u001b[34m[10:50:59] S3DistributionType set as FullyReplicated\u001b[0m\n",
      "\u001b[34m[10:51:02] 1144913x93 matrix with 106476909 entries loaded from /opt/ml/input/data/train?format=csv&label_column=0&delimiter=,\u001b[0m\n",
      "\u001b[34m[2023-11-04:10:51:02:INFO] Determined delimiter of CSV input is ','\u001b[0m\n",
      "\u001b[34m[10:51:02] S3DistributionType set as FullyReplicated\u001b[0m\n",
      "\u001b[34m[10:51:03] 245339x93 matrix with 22816527 entries loaded from /opt/ml/input/data/validation?format=csv&label_column=0&delimiter=,\u001b[0m\n",
      "\u001b[34m[10:51:08] src/tree/updater_prune.cc:74: tree pruning end, 1 roots, 106 extra nodes, 0 pruned nodes, max_depth=6\u001b[0m\n",
      "\u001b[34m[0]#011train-error:0.209651#011validation-error:0.210386\u001b[0m\n",
      "\u001b[34m[10:51:11] src/tree/updater_prune.cc:74: tree pruning end, 1 roots, 110 extra nodes, 0 pruned nodes, max_depth=6\u001b[0m\n",
      "\u001b[34m[1]#011train-error:0.209773#011validation-error:0.210484\u001b[0m\n",
      "\u001b[34m[10:51:13] src/tree/updater_prune.cc:74: tree pruning end, 1 roots, 112 extra nodes, 0 pruned nodes, max_depth=6\u001b[0m\n",
      "\u001b[34m[2]#011train-error:0.209773#011validation-error:0.210484\u001b[0m\n",
      "\u001b[34m[10:51:15] src/tree/updater_prune.cc:74: tree pruning end, 1 roots, 126 extra nodes, 0 pruned nodes, max_depth=6\u001b[0m\n",
      "\u001b[34m[3]#011train-error:0.209766#011validation-error:0.210476\u001b[0m\n",
      "\u001b[34m[10:51:17] src/tree/updater_prune.cc:74: tree pruning end, 1 roots, 122 extra nodes, 0 pruned nodes, max_depth=6\u001b[0m\n",
      "\u001b[34m[4]#011train-error:0.209764#011validation-error:0.21048\u001b[0m\n",
      "\u001b[34m[10:51:19] src/tree/updater_prune.cc:74: tree pruning end, 1 roots, 126 extra nodes, 0 pruned nodes, max_depth=6\u001b[0m\n",
      "\u001b[34m[5]#011train-error:0.209741#011validation-error:0.210468\u001b[0m\n",
      "\u001b[34m[10:51:22] src/tree/updater_prune.cc:74: tree pruning end, 1 roots, 122 extra nodes, 0 pruned nodes, max_depth=6\u001b[0m\n",
      "\u001b[34m[6]#011train-error:0.20972#011validation-error:0.210452\u001b[0m\n",
      "\u001b[34m[10:51:24] src/tree/updater_prune.cc:74: tree pruning end, 1 roots, 122 extra nodes, 0 pruned nodes, max_depth=6\u001b[0m\n",
      "\u001b[34m[7]#011train-error:0.209644#011validation-error:0.210338\u001b[0m\n",
      "\u001b[34m[10:51:26] src/tree/updater_prune.cc:74: tree pruning end, 1 roots, 124 extra nodes, 0 pruned nodes, max_depth=6\u001b[0m\n",
      "\u001b[34m[8]#011train-error:0.209625#011validation-error:0.21035\u001b[0m\n",
      "\u001b[34m[10:51:28] src/tree/updater_prune.cc:74: tree pruning end, 1 roots, 118 extra nodes, 0 pruned nodes, max_depth=6\u001b[0m\n",
      "\u001b[34m[9]#011train-error:0.209634#011validation-error:0.21037\u001b[0m\n",
      "\u001b[34m[10:51:30] src/tree/updater_prune.cc:74: tree pruning end, 1 roots, 126 extra nodes, 0 pruned nodes, max_depth=6\u001b[0m\n",
      "\u001b[34m[10]#011train-error:0.209563#011validation-error:0.210309\u001b[0m\n",
      "\u001b[34m[10:51:32] src/tree/updater_prune.cc:74: tree pruning end, 1 roots, 120 extra nodes, 0 pruned nodes, max_depth=6\u001b[0m\n",
      "\u001b[34m[11]#011train-error:0.209588#011validation-error:0.210289\u001b[0m\n",
      "\u001b[34m[10:51:35] src/tree/updater_prune.cc:74: tree pruning end, 1 roots, 124 extra nodes, 0 pruned nodes, max_depth=6\u001b[0m\n",
      "\u001b[34m[12]#011train-error:0.20952#011validation-error:0.210207\u001b[0m\n",
      "\u001b[34m[10:51:37] src/tree/updater_prune.cc:74: tree pruning end, 1 roots, 124 extra nodes, 0 pruned nodes, max_depth=6\u001b[0m\n",
      "\u001b[34m[13]#011train-error:0.209436#011validation-error:0.210154\u001b[0m\n",
      "\u001b[34m[10:51:39] src/tree/updater_prune.cc:74: tree pruning end, 1 roots, 122 extra nodes, 0 pruned nodes, max_depth=6\u001b[0m\n",
      "\u001b[34m[14]#011train-error:0.209359#011validation-error:0.210077\u001b[0m\n",
      "\u001b[34m[10:51:41] src/tree/updater_prune.cc:74: tree pruning end, 1 roots, 122 extra nodes, 0 pruned nodes, max_depth=6\u001b[0m\n",
      "\u001b[34m[15]#011train-error:0.20935#011validation-error:0.210069\u001b[0m\n",
      "\u001b[34m[10:51:43] src/tree/updater_prune.cc:74: tree pruning end, 1 roots, 118 extra nodes, 0 pruned nodes, max_depth=6\u001b[0m\n",
      "\u001b[34m[16]#011train-error:0.209315#011validation-error:0.210036\u001b[0m\n",
      "\u001b[34m[10:51:45] src/tree/updater_prune.cc:74: tree pruning end, 1 roots, 124 extra nodes, 0 pruned nodes, max_depth=6\u001b[0m\n",
      "\u001b[34m[17]#011train-error:0.209279#011validation-error:0.209991\u001b[0m\n",
      "\u001b[34m[10:51:48] src/tree/updater_prune.cc:74: tree pruning end, 1 roots, 124 extra nodes, 0 pruned nodes, max_depth=6\u001b[0m\n",
      "\u001b[34m[18]#011train-error:0.209202#011validation-error:0.20995\u001b[0m\n",
      "\u001b[34m[10:51:50] src/tree/updater_prune.cc:74: tree pruning end, 1 roots, 98 extra nodes, 0 pruned nodes, max_depth=6\u001b[0m\n",
      "\u001b[34m[19]#011train-error:0.209158#011validation-error:0.209905\u001b[0m\n",
      "\n",
      "2023-11-04 10:52:09 Uploading - Uploading generated training model\n",
      "2023-11-04 10:52:09 Completed - Training job completed\n",
      "Training seconds: 152\n",
      "Billable seconds: 152\n"
     ]
    }
   ],
   "source": [
    "#data_channels7 = {'train': train_channel, 'validation': validate_channel}\n",
    "xgboost_model1.fit({'train': training_data_channel,'validation': validation_data_channel})"
   ]
  },
  {
   "cell_type": "markdown",
   "id": "2e8174a7",
   "metadata": {},
   "source": [
    "### 3. Hosting the model in another instance"
   ]
  },
  {
   "cell_type": "code",
   "execution_count": 67,
   "id": "550d4636",
   "metadata": {},
   "outputs": [
    {
     "name": "stderr",
     "output_type": "stream",
     "text": [
      "INFO:sagemaker:Creating model with name: xgboost-2023-11-04-10-52-21-087\n",
      "INFO:sagemaker:Creating endpoint-config with name xgboost-2023-11-04-10-52-21-087\n",
      "INFO:sagemaker:Creating endpoint with name xgboost-2023-11-04-10-52-21-087\n"
     ]
    },
    {
     "name": "stdout",
     "output_type": "stream",
     "text": [
      "------!"
     ]
    }
   ],
   "source": [
    "### Host the Model on another instance\n",
    "xgb_predictor = xgboost_model1.deploy(initial_instance_count=1,\n",
    "                serializer = sagemaker.serializers.CSVSerializer(),\n",
    "                instance_type='ml.m4.xlarge')\n"
   ]
  },
  {
   "cell_type": "markdown",
   "id": "24c18ec1",
   "metadata": {},
   "source": [
    "### 4 Perform Batch transform and evaluate model on testing Data."
   ]
  },
  {
   "cell_type": "code",
   "execution_count": 68,
   "id": "4ea009f0",
   "metadata": {},
   "outputs": [
    {
     "name": "stderr",
     "output_type": "stream",
     "text": [
      "INFO:sagemaker:Creating model with name: xgboost-2023-11-04-10-55-53-051\n"
     ]
    }
   ],
   "source": [
    "### Perform Batch transform and evaluate model on testing Data.\n",
    "xgboost_transformer = xgboost_model1.transformer(\n",
    "    instance_count=1,\n",
    "    instance_type=\"ml.m4.xlarge\",\n",
    "    strategy=\"MultiRecord\",\n",
    "    assemble_with=\"Line\",\n",
    "    output_path=f\"s3://{bucket}/{prefix}output\"\n",
    ")"
   ]
  },
  {
   "cell_type": "markdown",
   "id": "d33dd3a0",
   "metadata": {},
   "source": [
    "# Transforming the test Data"
   ]
  },
  {
   "cell_type": "code",
   "execution_count": 69,
   "id": "6d1f8102",
   "metadata": {},
   "outputs": [
    {
     "name": "stderr",
     "output_type": "stream",
     "text": [
      "INFO:sagemaker:Creating transform job with name: xgboost-2023-11-04-10-55-53-628\n"
     ]
    },
    {
     "name": "stdout",
     "output_type": "stream",
     "text": [
      "..................................\u001b[34mArguments: serve\u001b[0m\n",
      "\u001b[34m[2023-11-04 11:01:34 +0000] [1] [INFO] Starting gunicorn 19.9.0\u001b[0m\n",
      "\u001b[34m[2023-11-04 11:01:34 +0000] [1] [INFO] Listening at: http://0.0.0.0:8080 (1)\u001b[0m\n",
      "\u001b[34m[2023-11-04 11:01:34 +0000] [1] [INFO] Using worker: gevent\u001b[0m\n",
      "\u001b[34m[2023-11-04 11:01:34 +0000] [21] [INFO] Booting worker with pid: 21\u001b[0m\n",
      "\u001b[34m[2023-11-04 11:01:34 +0000] [22] [INFO] Booting worker with pid: 22\u001b[0m\n",
      "\u001b[34m[2023-11-04 11:01:34 +0000] [23] [INFO] Booting worker with pid: 23\u001b[0m\n",
      "\u001b[34m/opt/amazon/lib/python3.7/site-packages/gunicorn/workers/ggevent.py:65: MonkeyPatchWarning: Monkey-patching ssl after ssl has already been imported may lead to errors, including RecursionError on Python 3.6. It may also silently lead to incorrect behaviour on Python 3.7. Please monkey-patch earlier. See https://github.com/gevent/gevent/issues/1016. Modules that had direct imports (NOT patched): ['urllib3.util.ssl_ (/opt/amazon/lib/python3.7/site-packages/urllib3/util/ssl_.py)', 'urllib3.util (/opt/amazon/lib/python3.7/site-packages/urllib3/util/__init__.py)']. \n",
      "  monkey.patch_all(subprocess=True)\u001b[0m\n",
      "\u001b[34m[2023-11-04:11:01:34:INFO] Model loaded successfully for worker : 21\u001b[0m\n",
      "\u001b[34m/opt/amazon/lib/python3.7/site-packages/gunicorn/workers/ggevent.py:65: MonkeyPatchWarning: Monkey-patching ssl after ssl has already been imported may lead to errors, including RecursionError on Python 3.6. It may also silently lead to incorrect behaviour on Python 3.7. Please monkey-patch earlier. See https://github.com/gevent/gevent/issues/1016. Modules that had direct imports (NOT patched): ['urllib3.util.ssl_ (/opt/amazon/lib/python3.7/site-packages/urllib3/util/ssl_.py)', 'urllib3.util (/opt/amazon/lib/python3.7/site-packages/urllib3/util/__init__.py)']. \n",
      "  monkey.patch_all(subprocess=True)\u001b[0m\n",
      "\u001b[34m[2023-11-04:11:01:34:INFO] Model loaded successfully for worker : 22\u001b[0m\n",
      "\u001b[34m[2023-11-04 11:01:34 +0000] [24] [INFO] Booting worker with pid: 24\u001b[0m\n",
      "\u001b[34m/opt/amazon/lib/python3.7/site-packages/gunicorn/workers/ggevent.py:65: MonkeyPatchWarning: Monkey-patching ssl after ssl has already been imported may lead to errors, including RecursionError on Python 3.6. It may also silently lead to incorrect behaviour on Python 3.7. Please monkey-patch earlier. See https://github.com/gevent/gevent/issues/1016. Modules that had direct imports (NOT patched): ['urllib3.util.ssl_ (/opt/amazon/lib/python3.7/site-packages/urllib3/util/ssl_.py)', 'urllib3.util (/opt/amazon/lib/python3.7/site-packages/urllib3/util/__init__.py)']. \n",
      "  monkey.patch_all(subprocess=True)\u001b[0m\n",
      "\u001b[34m[2023-11-04:11:01:34:INFO] Model loaded successfully for worker : 23\u001b[0m\n",
      "\u001b[34m/opt/amazon/lib/python3.7/site-packages/gunicorn/workers/ggevent.py:65: MonkeyPatchWarning: Monkey-patching ssl after ssl has already been imported may lead to errors, including RecursionError on Python 3.6. It may also silently lead to incorrect behaviour on Python 3.7. Please monkey-patch earlier. See https://github.com/gevent/gevent/issues/1016. Modules that had direct imports (NOT patched): ['urllib3.util.ssl_ (/opt/amazon/lib/python3.7/site-packages/urllib3/util/ssl_.py)', 'urllib3.util (/opt/amazon/lib/python3.7/site-packages/urllib3/util/__init__.py)']. \n",
      "  monkey.patch_all(subprocess=True)\u001b[0m\n",
      "\u001b[34m[2023-11-04:11:01:34:INFO] Model loaded successfully for worker : 24\u001b[0m\n",
      "\u001b[34m[2023-11-04:11:01:39:INFO] Sniff delimiter as ','\u001b[0m\n",
      "\u001b[34m[2023-11-04:11:01:39:INFO] Determined delimiter of CSV input is ','\u001b[0m\n",
      "\u001b[34m[2023-11-04:11:01:39:INFO] Sniff delimiter as ','\u001b[0m\n",
      "\u001b[34m[2023-11-04:11:01:39:INFO] Determined delimiter of CSV input is ','\u001b[0m\n",
      "\u001b[34m[2023-11-04:11:01:40:INFO] Sniff delimiter as ','\u001b[0m\n",
      "\u001b[34m[2023-11-04:11:01:40:INFO] Determined delimiter of CSV input is ','\u001b[0m\n",
      "\u001b[34m[2023-11-04:11:01:42:INFO] Sniff delimiter as ','\u001b[0m\n",
      "\u001b[34m[2023-11-04:11:01:42:INFO] Determined delimiter of CSV input is ','\u001b[0m\n",
      "\u001b[35m[2023-11-04:11:01:42:INFO] Sniff delimiter as ','\u001b[0m\n",
      "\u001b[35m[2023-11-04:11:01:42:INFO] Determined delimiter of CSV input is ','\u001b[0m\n",
      "\u001b[32m2023-11-04T11:01:38.848:[sagemaker logs]: MaxConcurrentTransforms=4, MaxPayloadInMB=6, BatchStrategy=MULTI_RECORD\u001b[0m\n",
      "\u001b[34m[2023-11-04:11:01:44:INFO] Sniff delimiter as ','\u001b[0m\n",
      "\u001b[34m[2023-11-04:11:01:44:INFO] Determined delimiter of CSV input is ','\u001b[0m\n",
      "\u001b[35m[2023-11-04:11:01:44:INFO] Sniff delimiter as ','\u001b[0m\n",
      "\u001b[35m[2023-11-04:11:01:44:INFO] Determined delimiter of CSV input is ','\u001b[0m\n",
      "\u001b[34m[2023-11-04:11:01:44:INFO] Sniff delimiter as ','\u001b[0m\n",
      "\u001b[34m[2023-11-04:11:01:44:INFO] Determined delimiter of CSV input is ','\u001b[0m\n",
      "\u001b[35m[2023-11-04:11:01:44:INFO] Sniff delimiter as ','\u001b[0m\n",
      "\u001b[35m[2023-11-04:11:01:44:INFO] Determined delimiter of CSV input is ','\u001b[0m\n",
      "\u001b[34m[2023-11-04:11:01:46:INFO] Sniff delimiter as ','\u001b[0m\n",
      "\u001b[34m[2023-11-04:11:01:46:INFO] Determined delimiter of CSV input is ','\u001b[0m\n",
      "\u001b[34m[2023-11-04:11:01:46:INFO] Sniff delimiter as ','\u001b[0m\n",
      "\u001b[34m[2023-11-04:11:01:46:INFO] Determined delimiter of CSV input is ','\u001b[0m\n",
      "\u001b[35m[2023-11-04:11:01:46:INFO] Sniff delimiter as ','\u001b[0m\n",
      "\u001b[35m[2023-11-04:11:01:46:INFO] Determined delimiter of CSV input is ','\u001b[0m\n",
      "\u001b[35m[2023-11-04:11:01:46:INFO] Sniff delimiter as ','\u001b[0m\n",
      "\u001b[35m[2023-11-04:11:01:46:INFO] Determined delimiter of CSV input is ','\u001b[0m\n",
      "\n",
      "\u001b[34mArguments: serve\u001b[0m\n",
      "\u001b[34m[2023-11-04 11:01:34 +0000] [1] [INFO] Starting gunicorn 19.9.0\u001b[0m\n",
      "\u001b[34m[2023-11-04 11:01:34 +0000] [1] [INFO] Listening at: http://0.0.0.0:8080 (1)\u001b[0m\n",
      "\u001b[34m[2023-11-04 11:01:34 +0000] [1] [INFO] Using worker: gevent\u001b[0m\n",
      "\u001b[34m[2023-11-04 11:01:34 +0000] [21] [INFO] Booting worker with pid: 21\u001b[0m\n",
      "\u001b[35mArguments: serve\u001b[0m\n",
      "\u001b[35m[2023-11-04 11:01:34 +0000] [1] [INFO] Starting gunicorn 19.9.0\u001b[0m\n",
      "\u001b[35m[2023-11-04 11:01:34 +0000] [1] [INFO] Listening at: http://0.0.0.0:8080 (1)\u001b[0m\n",
      "\u001b[35m[2023-11-04 11:01:34 +0000] [1] [INFO] Using worker: gevent\u001b[0m\n",
      "\u001b[35m[2023-11-04 11:01:34 +0000] [21] [INFO] Booting worker with pid: 21\u001b[0m\n",
      "\u001b[34m[2023-11-04 11:01:34 +0000] [22] [INFO] Booting worker with pid: 22\u001b[0m\n",
      "\u001b[34m[2023-11-04 11:01:34 +0000] [23] [INFO] Booting worker with pid: 23\u001b[0m\n",
      "\u001b[34m/opt/amazon/lib/python3.7/site-packages/gunicorn/workers/ggevent.py:65: MonkeyPatchWarning: Monkey-patching ssl after ssl has already been imported may lead to errors, including RecursionError on Python 3.6. It may also silently lead to incorrect behaviour on Python 3.7. Please monkey-patch earlier. See https://github.com/gevent/gevent/issues/1016. Modules that had direct imports (NOT patched): ['urllib3.util.ssl_ (/opt/amazon/lib/python3.7/site-packages/urllib3/util/ssl_.py)', 'urllib3.util (/opt/amazon/lib/python3.7/site-packages/urllib3/util/__init__.py)']. \n",
      "  monkey.patch_all(subprocess=True)\u001b[0m\n",
      "\u001b[34m[2023-11-04:11:01:34:INFO] Model loaded successfully for worker : 21\u001b[0m\n",
      "\u001b[34m/opt/amazon/lib/python3.7/site-packages/gunicorn/workers/ggevent.py:65: MonkeyPatchWarning: Monkey-patching ssl after ssl has already been imported may lead to errors, including RecursionError on Python 3.6. It may also silently lead to incorrect behaviour on Python 3.7. Please monkey-patch earlier. See https://github.com/gevent/gevent/issues/1016. Modules that had direct imports (NOT patched): ['urllib3.util.ssl_ (/opt/amazon/lib/python3.7/site-packages/urllib3/util/ssl_.py)', 'urllib3.util (/opt/amazon/lib/python3.7/site-packages/urllib3/util/__init__.py)']. \n",
      "  monkey.patch_all(subprocess=True)\u001b[0m\n",
      "\u001b[34m[2023-11-04:11:01:34:INFO] Model loaded successfully for worker : 22\u001b[0m\n",
      "\u001b[34m[2023-11-04 11:01:34 +0000] [24] [INFO] Booting worker with pid: 24\u001b[0m\n",
      "\u001b[34m/opt/amazon/lib/python3.7/site-packages/gunicorn/workers/ggevent.py:65: MonkeyPatchWarning: Monkey-patching ssl after ssl has already been imported may lead to errors, including RecursionError on Python 3.6. It may also silently lead to incorrect behaviour on Python 3.7. Please monkey-patch earlier. See https://github.com/gevent/gevent/issues/1016. Modules that had direct imports (NOT patched): ['urllib3.util.ssl_ (/opt/amazon/lib/python3.7/site-packages/urllib3/util/ssl_.py)', 'urllib3.util (/opt/amazon/lib/python3.7/site-packages/urllib3/util/__init__.py)']. \n",
      "  monkey.patch_all(subprocess=True)\u001b[0m\n",
      "\u001b[34m[2023-11-04:11:01:34:INFO] Model loaded successfully for worker : 23\u001b[0m\n",
      "\u001b[34m/opt/amazon/lib/python3.7/site-packages/gunicorn/workers/ggevent.py:65: MonkeyPatchWarning: Monkey-patching ssl after ssl has already been imported may lead to errors, including RecursionError on Python 3.6. It may also silently lead to incorrect behaviour on Python 3.7. Please monkey-patch earlier. See https://github.com/gevent/gevent/issues/1016. Modules that had direct imports (NOT patched): ['urllib3.util.ssl_ (/opt/amazon/lib/python3.7/site-packages/urllib3/util/ssl_.py)', 'urllib3.util (/opt/amazon/lib/python3.7/site-packages/urllib3/util/__init__.py)']. \n",
      "  monkey.patch_all(subprocess=True)\u001b[0m\n",
      "\u001b[34m[2023-11-04:11:01:34:INFO] Model loaded successfully for worker : 24\u001b[0m\n",
      "\u001b[35m[2023-11-04 11:01:34 +0000] [22] [INFO] Booting worker with pid: 22\u001b[0m\n",
      "\u001b[35m[2023-11-04 11:01:34 +0000] [23] [INFO] Booting worker with pid: 23\u001b[0m\n",
      "\u001b[35m/opt/amazon/lib/python3.7/site-packages/gunicorn/workers/ggevent.py:65: MonkeyPatchWarning: Monkey-patching ssl after ssl has already been imported may lead to errors, including RecursionError on Python 3.6. It may also silently lead to incorrect behaviour on Python 3.7. Please monkey-patch earlier. See https://github.com/gevent/gevent/issues/1016. Modules that had direct imports (NOT patched): ['urllib3.util.ssl_ (/opt/amazon/lib/python3.7/site-packages/urllib3/util/ssl_.py)', 'urllib3.util (/opt/amazon/lib/python3.7/site-packages/urllib3/util/__init__.py)']. \n",
      "  monkey.patch_all(subprocess=True)\u001b[0m\n",
      "\u001b[35m[2023-11-04:11:01:34:INFO] Model loaded successfully for worker : 21\u001b[0m\n",
      "\u001b[35m/opt/amazon/lib/python3.7/site-packages/gunicorn/workers/ggevent.py:65: MonkeyPatchWarning: Monkey-patching ssl after ssl has already been imported may lead to errors, including RecursionError on Python 3.6. It may also silently lead to incorrect behaviour on Python 3.7. Please monkey-patch earlier. See https://github.com/gevent/gevent/issues/1016. Modules that had direct imports (NOT patched): ['urllib3.util.ssl_ (/opt/amazon/lib/python3.7/site-packages/urllib3/util/ssl_.py)', 'urllib3.util (/opt/amazon/lib/python3.7/site-packages/urllib3/util/__init__.py)']. \n",
      "  monkey.patch_all(subprocess=True)\u001b[0m\n",
      "\u001b[35m[2023-11-04:11:01:34:INFO] Model loaded successfully for worker : 22\u001b[0m\n",
      "\u001b[35m[2023-11-04 11:01:34 +0000] [24] [INFO] Booting worker with pid: 24\u001b[0m\n",
      "\u001b[35m/opt/amazon/lib/python3.7/site-packages/gunicorn/workers/ggevent.py:65: MonkeyPatchWarning: Monkey-patching ssl after ssl has already been imported may lead to errors, including RecursionError on Python 3.6. It may also silently lead to incorrect behaviour on Python 3.7. Please monkey-patch earlier. See https://github.com/gevent/gevent/issues/1016. Modules that had direct imports (NOT patched): ['urllib3.util.ssl_ (/opt/amazon/lib/python3.7/site-packages/urllib3/util/ssl_.py)', 'urllib3.util (/opt/amazon/lib/python3.7/site-packages/urllib3/util/__init__.py)']. \n",
      "  monkey.patch_all(subprocess=True)\u001b[0m\n",
      "\u001b[35m[2023-11-04:11:01:34:INFO] Model loaded successfully for worker : 23\u001b[0m\n",
      "\u001b[35m/opt/amazon/lib/python3.7/site-packages/gunicorn/workers/ggevent.py:65: MonkeyPatchWarning: Monkey-patching ssl after ssl has already been imported may lead to errors, including RecursionError on Python 3.6. It may also silently lead to incorrect behaviour on Python 3.7. Please monkey-patch earlier. See https://github.com/gevent/gevent/issues/1016. Modules that had direct imports (NOT patched): ['urllib3.util.ssl_ (/opt/amazon/lib/python3.7/site-packages/urllib3/util/ssl_.py)', 'urllib3.util (/opt/amazon/lib/python3.7/site-packages/urllib3/util/__init__.py)']. \n",
      "  monkey.patch_all(subprocess=True)\u001b[0m\n",
      "\u001b[35m[2023-11-04:11:01:34:INFO] Model loaded successfully for worker : 24\u001b[0m\n",
      "\u001b[34m[2023-11-04:11:01:39:INFO] Sniff delimiter as ','\u001b[0m\n",
      "\u001b[34m[2023-11-04:11:01:39:INFO] Determined delimiter of CSV input is ','\u001b[0m\n",
      "\u001b[34m[2023-11-04:11:01:39:INFO] Sniff delimiter as ','\u001b[0m\n",
      "\u001b[34m[2023-11-04:11:01:39:INFO] Determined delimiter of CSV input is ','\u001b[0m\n",
      "\u001b[34m[2023-11-04:11:01:40:INFO] Sniff delimiter as ','\u001b[0m\n",
      "\u001b[34m[2023-11-04:11:01:40:INFO] Determined delimiter of CSV input is ','\u001b[0m\n",
      "\u001b[35m[2023-11-04:11:01:39:INFO] Sniff delimiter as ','\u001b[0m\n",
      "\u001b[35m[2023-11-04:11:01:39:INFO] Determined delimiter of CSV input is ','\u001b[0m\n",
      "\u001b[35m[2023-11-04:11:01:39:INFO] Sniff delimiter as ','\u001b[0m\n",
      "\u001b[35m[2023-11-04:11:01:39:INFO] Determined delimiter of CSV input is ','\u001b[0m\n",
      "\u001b[35m[2023-11-04:11:01:40:INFO] Sniff delimiter as ','\u001b[0m\n",
      "\u001b[35m[2023-11-04:11:01:40:INFO] Determined delimiter of CSV input is ','\u001b[0m\n",
      "\u001b[34m[2023-11-04:11:01:42:INFO] Sniff delimiter as ','\u001b[0m\n",
      "\u001b[34m[2023-11-04:11:01:42:INFO] Determined delimiter of CSV input is ','\u001b[0m\n",
      "\u001b[35m[2023-11-04:11:01:42:INFO] Sniff delimiter as ','\u001b[0m\n",
      "\u001b[35m[2023-11-04:11:01:42:INFO] Determined delimiter of CSV input is ','\u001b[0m\n",
      "\u001b[32m2023-11-04T11:01:38.848:[sagemaker logs]: MaxConcurrentTransforms=4, MaxPayloadInMB=6, BatchStrategy=MULTI_RECORD\u001b[0m\n",
      "\u001b[34m[2023-11-04:11:01:44:INFO] Sniff delimiter as ','\u001b[0m\n",
      "\u001b[34m[2023-11-04:11:01:44:INFO] Determined delimiter of CSV input is ','\u001b[0m\n",
      "\u001b[35m[2023-11-04:11:01:44:INFO] Sniff delimiter as ','\u001b[0m\n",
      "\u001b[35m[2023-11-04:11:01:44:INFO] Determined delimiter of CSV input is ','\u001b[0m\n",
      "\u001b[34m[2023-11-04:11:01:44:INFO] Sniff delimiter as ','\u001b[0m\n",
      "\u001b[34m[2023-11-04:11:01:44:INFO] Determined delimiter of CSV input is ','\u001b[0m\n",
      "\u001b[35m[2023-11-04:11:01:44:INFO] Sniff delimiter as ','\u001b[0m\n",
      "\u001b[35m[2023-11-04:11:01:44:INFO] Determined delimiter of CSV input is ','\u001b[0m\n",
      "\u001b[34m[2023-11-04:11:01:46:INFO] Sniff delimiter as ','\u001b[0m\n",
      "\u001b[34m[2023-11-04:11:01:46:INFO] Determined delimiter of CSV input is ','\u001b[0m\n",
      "\u001b[34m[2023-11-04:11:01:46:INFO] Sniff delimiter as ','\u001b[0m\n",
      "\u001b[34m[2023-11-04:11:01:46:INFO] Determined delimiter of CSV input is ','\u001b[0m\n",
      "\u001b[35m[2023-11-04:11:01:46:INFO] Sniff delimiter as ','\u001b[0m\n",
      "\u001b[35m[2023-11-04:11:01:46:INFO] Determined delimiter of CSV input is ','\u001b[0m\n",
      "\u001b[35m[2023-11-04:11:01:46:INFO] Sniff delimiter as ','\u001b[0m\n",
      "\u001b[35m[2023-11-04:11:01:46:INFO] Determined delimiter of CSV input is ','\u001b[0m\n"
     ]
    }
   ],
   "source": [
    "# Transforming the test Data\n",
    "xgboost_transformer.transform(X_test_path, content_type=\"text/csv\", split_type=\"Line\")\n",
    "xgboost_transformer.wait()"
   ]
  },
  {
   "cell_type": "markdown",
   "id": "0c128483",
   "metadata": {},
   "source": [
    "#### 5. Report the performance metrics that you see better test the model performance "
   ]
  },
  {
   "cell_type": "code",
   "execution_count": 70,
   "id": "240a1dab",
   "metadata": {},
   "outputs": [],
   "source": [
    "y_file = boto3.client(\"s3\").get_object(Bucket = bucket, Key = f\"{prefix}output/X_test.csv.out\")\n",
    "y_pred = pd.read_csv(io.BytesIO(y_file[\"Body\"].read()), header = None, names = [\"Predicted\"])"
   ]
  },
  {
   "cell_type": "code",
   "execution_count": 71,
   "id": "a4087f4a",
   "metadata": {},
   "outputs": [],
   "source": [
    "y_pred[\"actual\"] = y_pred[\"Predicted\"].apply(lambda x : 1 if x > 0.5 else 0)"
   ]
  },
  {
   "cell_type": "code",
   "execution_count": 72,
   "id": "3a5c702e",
   "metadata": {},
   "outputs": [
    {
     "name": "stdout",
     "output_type": "stream",
     "text": [
      "Accuracy: 0.7905216476860495\n"
     ]
    }
   ],
   "source": [
    "### Calculating Accuracy\n",
    "accuracy = accuracy_score(test_y, y_pred[\"actual\"])\n",
    "print(\"Accuracy:\", accuracy)"
   ]
  },
  {
   "cell_type": "markdown",
   "id": "56a33b50",
   "metadata": {},
   "source": [
    "### Evaluating the model with the Confusin matrix"
   ]
  },
  {
   "cell_type": "code",
   "execution_count": 73,
   "id": "8f4186d7",
   "metadata": {},
   "outputs": [
    {
     "name": "stdout",
     "output_type": "stream",
     "text": [
      "[[193657    161]\n",
      " [ 51232    288]]\n"
     ]
    },
    {
     "data": {
      "text/plain": [
       "Text(0.5, 1.0, 'Confusion matrix with Accuracy score: 0.7905216476860495')"
      ]
     },
     "execution_count": 73,
     "metadata": {},
     "output_type": "execute_result"
    },
    {
     "data": {
      "image/png": "[encoded data removed]",
      "text/plain": [
       "<Figure size 600x500 with 2 Axes>"
      ]
     },
     "metadata": {},
     "output_type": "display_data"
    }
   ],
   "source": [
    "from sklearn.metrics import confusion_matrix\n",
    "import matplotlib.pyplot as plt\n",
    "matrix = confusion_matrix(test_y, y_pred[\"actual\"])\n",
    "df_confusion = pd.DataFrame(matrix, index=['Not Delayed','Delayed'],columns=['Not Delayed','Delayed'])\n",
    "\n",
    "df_confusion\n",
    "cm = confusion_matrix(test_y, y_pred[\"actual\"])\n",
    "print(cm)\n",
    "plt.figure(figsize=(6,5))\n",
    "sns.heatmap(cm, annot=True, fmt=\"d\",\n",
    "cmap=\"YlGnBu\", \n",
    "xticklabels=['Not Delayed', 'Delayed'], yticklabels=['Not Delayed', 'Delayed'])\n",
    "plt.xlabel('Predicted')\n",
    "plt.ylabel('Actual')\n",
    "plt.title('Confusion matrix with Accuracy score: {0}'.format(accuracy))\n"
   ]
  },
  {
   "cell_type": "code",
   "execution_count": 74,
   "id": "76e0acf0",
   "metadata": {},
   "outputs": [
    {
     "name": "stdout",
     "output_type": "stream",
     "text": [
      "Accuracy : 0.7905216476860495\n",
      "Precision : 0.6414253897550112\n",
      "Recall : 0.0055900621118012426\n",
      "F1-Score : 0.01108353056629914\n"
     ]
    }
   ],
   "source": [
    "### Find out Accuracy, Precesion, recall & F1- Score after feature engineering\n",
    "accuracy = accuracy_score(test_y, y_pred[\"actual\"])\n",
    "precision = precision_score(test_y, y_pred[\"actual\"])\n",
    "recall = recall_score(test_y, y_pred[\"actual\"])\n",
    "f1 = f1_score(test_y, y_pred[\"actual\"])\n",
    "print(\"Accuracy :\", accuracy)\n",
    "print(\"Precision :\", precision)\n",
    "print(\"Recall :\", recall)\n",
    "print(\"F1-Score :\", f1)"
   ]
  },
  {
   "cell_type": "markdown",
   "id": "b8079ccb",
   "metadata": {},
   "source": [
    "## Working on Version 2 of CSV file created in part 1\n",
    "### Split Data into trainng, validation & testing set for CSV V2 from Part A for XG Boost"
   ]
  },
  {
   "cell_type": "code",
   "execution_count": 36,
   "id": "07aae231",
   "metadata": {},
   "outputs": [],
   "source": [
    "### Split Data into training, Validation & tesing set (70-15-15)% for data 1 version 1\n",
    "train, test_and_validate = train_test_split(df2, test_size=0.3)\n",
    "test, validate = train_test_split(test_and_validate, test_size=0.5)\n",
    "#train_file = 'train.csv'\n",
    "#test_file = 'test.csv'\n",
    "#validate_file = 'validate.csv'"
   ]
  },
  {
   "cell_type": "code",
   "execution_count": 37,
   "id": "b25e834a",
   "metadata": {},
   "outputs": [],
   "source": [
    "X_test = test.drop(\"target\", axis =1)\n",
    "test_y = test[\"target\"]\n",
    "directory_path = 'data/v2b'\n",
    "\n",
    "# Check if the directory exists, and if not, create it\n",
    "if not os.path.exists(directory_path):\n",
    "    os.makedirs(directory_path)\n",
    "\n",
    "#file_path = os.path.join(directory_path, 'train_file')\n",
    "\n",
    "#with open(file_path, 'w') as file:\n",
    " #   file.write('This is some content.')\n",
    "\n",
    "train.to_csv(\"data/v2b/train.csv\", index = False, header = False)\n",
    "validate.to_csv(\"data/v2b/validation.csv\", index = False, header = False)\n",
    "X_test.to_csv(\"data/v2b/X_test.csv\", index = False, header = False)"
   ]
  },
  {
   "cell_type": "code",
   "execution_count": 38,
   "id": "259cb74a",
   "metadata": {},
   "outputs": [
    {
     "name": "stderr",
     "output_type": "stream",
     "text": [
      "INFO:sagemaker.image_uris:Ignoring unnecessary instance type: None.\n"
     ]
    }
   ],
   "source": [
    "container = image_uris.retrieve('xgboost', region,version='latest')"
   ]
  },
  {
   "cell_type": "markdown",
   "id": "ba272d14",
   "metadata": {},
   "source": [
    "### Uploading file to AWS server"
   ]
  },
  {
   "cell_type": "code",
   "execution_count": 39,
   "id": "8bb9e8d3",
   "metadata": {},
   "outputs": [],
   "source": [
    "### Uploading in AWS S3\n",
    "prefix = \"data_delay/v2b/\"\n",
    "train_path = session.upload_data(path=\"data/v2b/train.csv\", key_prefix=prefix + \"input/training\")\n",
    "valid_path = session.upload_data(path=\"data/v2b/validation.csv\", key_prefix=prefix + \"input/validation\" )\n",
    "X_test_path = session.upload_data(path=\"data/v2b/X_test.csv\", key_prefix=prefix + \"input/test\" )"
   ]
  },
  {
   "cell_type": "markdown",
   "id": "af1969d9",
   "metadata": {},
   "source": [
    "Checking the Path"
   ]
  },
  {
   "cell_type": "code",
   "execution_count": null,
   "id": "bd1acfc6",
   "metadata": {},
   "outputs": [],
   "source": [
    "print(train_path)\n",
    "print(valid_path)\n",
    "print(X_test_path)\n",
    "print(\"Files successfully uploaded in AWS SERVER !!!\")"
   ]
  },
  {
   "cell_type": "markdown",
   "id": "9b856a82",
   "metadata": {},
   "source": [
    "### 2. Use xgboost estimator to build a classifcation model."
   ]
  },
  {
   "cell_type": "code",
   "execution_count": 41,
   "id": "7eb13897",
   "metadata": {},
   "outputs": [
    {
     "name": "stdout",
     "output_type": "stream",
     "text": [
      "sagemaker.config INFO - Not applying SDK defaults from location: /etc/xdg/sagemaker/config.yaml\n",
      "sagemaker.config INFO - Not applying SDK defaults from location: /home/ec2-user/.config/sagemaker/config.yaml\n",
      "sagemaker.config INFO - Not applying SDK defaults from location: /etc/xdg/sagemaker/config.yaml\n",
      "sagemaker.config INFO - Not applying SDK defaults from location: /home/ec2-user/.config/sagemaker/config.yaml\n"
     ]
    }
   ],
   "source": [
    "xgboost_model2 = Estimator(container, \n",
    "                              role=sagemaker.get_execution_role(), \n",
    "                              instance_count=1, \n",
    "                              instance_type='ml.m4.xlarge',\n",
    "                            output_path='s3://{}/{}v2b/output'.format(bucket,prefix))"
   ]
  },
  {
   "cell_type": "code",
   "execution_count": 42,
   "id": "c64d6565",
   "metadata": {},
   "outputs": [],
   "source": [
    "### Hyperparameter setting\n",
    "xgboost_model2.set_hyperparameters(objective='binary:logistic', num_round=20)"
   ]
  },
  {
   "cell_type": "code",
   "execution_count": 43,
   "id": "171b2445",
   "metadata": {},
   "outputs": [],
   "source": [
    "training_data_channel = sagemaker.TrainingInput(s3_data=train_path, content_type='text/csv')\n",
    "validation_data_channel = sagemaker.TrainingInput(s3_data=valid_path, content_type='text/csv')"
   ]
  },
  {
   "cell_type": "code",
   "execution_count": 44,
   "id": "8d3ecba5",
   "metadata": {},
   "outputs": [
    {
     "name": "stderr",
     "output_type": "stream",
     "text": [
      "INFO:sagemaker:Creating training-job with name: xgboost-2023-11-04-10-27-40-199\n"
     ]
    },
    {
     "name": "stdout",
     "output_type": "stream",
     "text": [
      "2023-11-04 10:27:40 Starting - Starting the training job...\n",
      "2023-11-04 10:28:05 Starting - Preparing the instances for training.........\n",
      "2023-11-04 10:29:17 Downloading - Downloading input data...\n",
      "2023-11-04 10:29:57 Training - Downloading the training image...\n",
      "2023-11-04 10:30:37 Training - Training image download completed. Training in progress...\u001b[34mArguments: train\u001b[0m\n",
      "\u001b[34m[2023-11-04:10:30:50:INFO] Running standalone xgboost training.\u001b[0m\n",
      "\u001b[34m[2023-11-04:10:30:50:INFO] File size need to be processed in the node: 271.17mb. Available memory size in the node: 8547.93mb\u001b[0m\n",
      "\u001b[34m[2023-11-04:10:30:50:INFO] Determined delimiter of CSV input is ','\u001b[0m\n",
      "\u001b[34m[10:30:50] S3DistributionType set as FullyReplicated\u001b[0m\n",
      "\u001b[34m[10:30:52] 1144913x85 matrix with 97317605 entries loaded from /opt/ml/input/data/train?format=csv&label_column=0&delimiter=,\u001b[0m\n",
      "\u001b[34m[2023-11-04:10:30:52:INFO] Determined delimiter of CSV input is ','\u001b[0m\n",
      "\u001b[34m[10:30:52] S3DistributionType set as FullyReplicated\u001b[0m\n",
      "\u001b[34m[10:30:53] 245339x85 matrix with 20853815 entries loaded from /opt/ml/input/data/validation?format=csv&label_column=0&delimiter=,\u001b[0m\n",
      "\u001b[34m[10:30:57] src/tree/updater_prune.cc:74: tree pruning end, 1 roots, 126 extra nodes, 0 pruned nodes, max_depth=6\u001b[0m\n",
      "\u001b[34m[0]#011train-error:0.204409#011validation-error:0.203677\u001b[0m\n",
      "\u001b[34m[10:31:00] src/tree/updater_prune.cc:74: tree pruning end, 1 roots, 126 extra nodes, 0 pruned nodes, max_depth=6\u001b[0m\n",
      "\u001b[34m[1]#011train-error:0.203447#011validation-error:0.202642\u001b[0m\n",
      "\u001b[34m[10:31:03] src/tree/updater_prune.cc:74: tree pruning end, 1 roots, 126 extra nodes, 0 pruned nodes, max_depth=6\u001b[0m\n",
      "\u001b[34m[2]#011train-error:0.20339#011validation-error:0.202728\u001b[0m\n",
      "\u001b[34m[10:31:05] src/tree/updater_prune.cc:74: tree pruning end, 1 roots, 126 extra nodes, 0 pruned nodes, max_depth=6\u001b[0m\n",
      "\u001b[34m[3]#011train-error:0.203136#011validation-error:0.202361\u001b[0m\n",
      "\u001b[34m[10:31:07] src/tree/updater_prune.cc:74: tree pruning end, 1 roots, 126 extra nodes, 0 pruned nodes, max_depth=6\u001b[0m\n",
      "\u001b[34m[4]#011train-error:0.202773#011validation-error:0.202194\u001b[0m\n",
      "\u001b[34m[10:31:10] src/tree/updater_prune.cc:74: tree pruning end, 1 roots, 126 extra nodes, 0 pruned nodes, max_depth=6\u001b[0m\n",
      "\u001b[34m[5]#011train-error:0.202716#011validation-error:0.202104\u001b[0m\n",
      "\u001b[34m[10:31:12] src/tree/updater_prune.cc:74: tree pruning end, 1 roots, 126 extra nodes, 0 pruned nodes, max_depth=6\u001b[0m\n",
      "\u001b[34m[6]#011train-error:0.202235#011validation-error:0.201533\u001b[0m\n",
      "\u001b[34m[10:31:14] src/tree/updater_prune.cc:74: tree pruning end, 1 roots, 126 extra nodes, 0 pruned nodes, max_depth=6\u001b[0m\n",
      "\u001b[34m[7]#011train-error:0.201858#011validation-error:0.20113\u001b[0m\n",
      "\u001b[34m[10:31:16] src/tree/updater_prune.cc:74: tree pruning end, 1 roots, 126 extra nodes, 0 pruned nodes, max_depth=6\u001b[0m\n",
      "\u001b[34m[8]#011train-error:0.20175#011validation-error:0.200971\u001b[0m\n",
      "\u001b[34m[10:31:18] src/tree/updater_prune.cc:74: tree pruning end, 1 roots, 126 extra nodes, 0 pruned nodes, max_depth=6\u001b[0m\n",
      "\u001b[34m[9]#011train-error:0.201442#011validation-error:0.200771\u001b[0m\n",
      "\u001b[34m[10:31:20] src/tree/updater_prune.cc:74: tree pruning end, 1 roots, 120 extra nodes, 0 pruned nodes, max_depth=6\u001b[0m\n",
      "\u001b[34m[10]#011train-error:0.20098#011validation-error:0.200437\u001b[0m\n",
      "\u001b[34m[10:31:23] src/tree/updater_prune.cc:74: tree pruning end, 1 roots, 126 extra nodes, 0 pruned nodes, max_depth=6\u001b[0m\n",
      "\u001b[34m[11]#011train-error:0.200497#011validation-error:0.199895\u001b[0m\n",
      "\u001b[34m[10:31:25] src/tree/updater_prune.cc:74: tree pruning end, 1 roots, 122 extra nodes, 0 pruned nodes, max_depth=6\u001b[0m\n",
      "\u001b[34m[12]#011train-error:0.200253#011validation-error:0.199679\u001b[0m\n",
      "\u001b[34m[10:31:27] src/tree/updater_prune.cc:74: tree pruning end, 1 roots, 120 extra nodes, 0 pruned nodes, max_depth=6\u001b[0m\n",
      "\u001b[34m[13]#011train-error:0.200048#011validation-error:0.199463\u001b[0m\n",
      "\u001b[34m[10:31:29] src/tree/updater_prune.cc:74: tree pruning end, 1 roots, 126 extra nodes, 0 pruned nodes, max_depth=6\u001b[0m\n",
      "\u001b[34m[14]#011train-error:0.199605#011validation-error:0.199222\u001b[0m\n",
      "\u001b[34m[10:31:31] src/tree/updater_prune.cc:74: tree pruning end, 1 roots, 126 extra nodes, 0 pruned nodes, max_depth=6\u001b[0m\n",
      "\u001b[34m[15]#011train-error:0.199264#011validation-error:0.198811\u001b[0m\n",
      "\u001b[34m[10:31:33] src/tree/updater_prune.cc:74: tree pruning end, 1 roots, 118 extra nodes, 0 pruned nodes, max_depth=6\u001b[0m\n",
      "\u001b[34m[16]#011train-error:0.198771#011validation-error:0.198513\u001b[0m\n",
      "\u001b[34m[10:31:35] src/tree/updater_prune.cc:74: tree pruning end, 1 roots, 126 extra nodes, 0 pruned nodes, max_depth=6\u001b[0m\n",
      "\u001b[34m[17]#011train-error:0.19846#011validation-error:0.198277\u001b[0m\n",
      "\u001b[34m[10:31:37] src/tree/updater_prune.cc:74: tree pruning end, 1 roots, 120 extra nodes, 0 pruned nodes, max_depth=6\u001b[0m\n",
      "\u001b[34m[18]#011train-error:0.198183#011validation-error:0.197906\u001b[0m\n",
      "\u001b[34m[10:31:39] src/tree/updater_prune.cc:74: tree pruning end, 1 roots, 126 extra nodes, 0 pruned nodes, max_depth=6\u001b[0m\n",
      "\u001b[34m[19]#011train-error:0.198015#011validation-error:0.197783\u001b[0m\n",
      "\n",
      "2023-11-04 10:32:02 Uploading - Uploading generated training model\n",
      "2023-11-04 10:32:02 Completed - Training job completed\n",
      "Training seconds: 163\n",
      "Billable seconds: 163\n"
     ]
    }
   ],
   "source": [
    "### Fitting Model\n",
    "#data_channels7 = {'train': train_channel, 'validation': validate_channel}\n",
    "xgboost_model2.fit({'train': training_data_channel,'validation': validation_data_channel})"
   ]
  },
  {
   "cell_type": "markdown",
   "id": "65b7e552",
   "metadata": {},
   "source": [
    "### 3 Hosting model to another instance"
   ]
  },
  {
   "cell_type": "code",
   "execution_count": 46,
   "id": "a27e12bc",
   "metadata": {},
   "outputs": [
    {
     "name": "stderr",
     "output_type": "stream",
     "text": [
      "INFO:sagemaker:Creating model with name: xgboost-2023-11-04-10-32-50-266\n",
      "INFO:sagemaker:Creating endpoint-config with name xgboost-2023-11-04-10-32-50-266\n",
      "INFO:sagemaker:Creating endpoint with name xgboost-2023-11-04-10-32-50-266\n"
     ]
    },
    {
     "name": "stdout",
     "output_type": "stream",
     "text": [
      "-----!"
     ]
    }
   ],
   "source": [
    "### Host the Model on another instance\n",
    "xgb_predictor = xgboost_model2.deploy(initial_instance_count=1,\n",
    "                serializer = sagemaker.serializers.CSVSerializer(),\n",
    "                instance_type='ml.m4.xlarge')\n"
   ]
  },
  {
   "cell_type": "markdown",
   "id": "8764a7ba",
   "metadata": {},
   "source": [
    "### 4. Perform batch transform to evaluate the model on testing data"
   ]
  },
  {
   "cell_type": "code",
   "execution_count": 47,
   "id": "fda23e4d",
   "metadata": {},
   "outputs": [
    {
     "name": "stderr",
     "output_type": "stream",
     "text": [
      "INFO:sagemaker:Creating model with name: xgboost-2023-11-04-10-35-52-094\n"
     ]
    }
   ],
   "source": [
    "### Perform Batch transform and evaluate model on testing Data.\n",
    "xgboost_transformer = xgboost_model2.transformer(\n",
    "    instance_count=1,\n",
    "    instance_type=\"ml.m4.xlarge\",\n",
    "    strategy=\"MultiRecord\",\n",
    "    assemble_with=\"Line\",\n",
    "    output_path=f\"s3://{bucket}/{prefix}output\"\n",
    ")"
   ]
  },
  {
   "cell_type": "markdown",
   "id": "c141d68e",
   "metadata": {},
   "source": [
    "### Transform the test data"
   ]
  },
  {
   "cell_type": "code",
   "execution_count": 48,
   "id": "20247069",
   "metadata": {},
   "outputs": [
    {
     "name": "stderr",
     "output_type": "stream",
     "text": [
      "INFO:sagemaker:Creating transform job with name: xgboost-2023-11-04-10-36-10-608\n"
     ]
    },
    {
     "name": "stdout",
     "output_type": "stream",
     "text": [
      ".....................................\u001b[34mArguments: serve\u001b[0m\n",
      "\u001b[34m[2023-11-04 10:42:24 +0000] [1] [INFO] Starting gunicorn 19.9.0\u001b[0m\n",
      "\u001b[34m[2023-11-04 10:42:24 +0000] [1] [INFO] Listening at: http://0.0.0.0:8080 (1)\u001b[0m\n",
      "\u001b[34m[2023-11-04 10:42:24 +0000] [1] [INFO] Using worker: gevent\u001b[0m\n",
      "\u001b[34m[2023-11-04 10:42:24 +0000] [21] [INFO] Booting worker with pid: 21\u001b[0m\n",
      "\u001b[34m[2023-11-04 10:42:24 +0000] [22] [INFO] Booting worker with pid: 22\u001b[0m\n",
      "\u001b[34m[2023-11-04 10:42:24 +0000] [23] [INFO] Booting worker with pid: 23\u001b[0m\n",
      "\u001b[34m/opt/amazon/lib/python3.7/site-packages/gunicorn/workers/ggevent.py:65: MonkeyPatchWarning: Monkey-patching ssl after ssl has already been imported may lead to errors, including RecursionError on Python 3.6. It may also silently lead to incorrect behaviour on Python 3.7. Please monkey-patch earlier. See https://github.com/gevent/gevent/issues/1016. Modules that had direct imports (NOT patched): ['urllib3.util.ssl_ (/opt/amazon/lib/python3.7/site-packages/urllib3/util/ssl_.py)', 'urllib3.util (/opt/amazon/lib/python3.7/site-packages/urllib3/util/__init__.py)']. \n",
      "  monkey.patch_all(subprocess=True)\u001b[0m\n",
      "\u001b[34m[2023-11-04:10:42:24:INFO] Model loaded successfully for worker : 21\u001b[0m\n",
      "\u001b[34m/opt/amazon/lib/python3.7/site-packages/gunicorn/workers/ggevent.py:65: MonkeyPatchWarning: Monkey-patching ssl after ssl has already been imported may lead to errors, including RecursionError on Python 3.6. It may also silently lead to incorrect behaviour on Python 3.7. Please monkey-patch earlier. See https://github.com/gevent/gevent/issues/1016. Modules that had direct imports (NOT patched): ['urllib3.util.ssl_ (/opt/amazon/lib/python3.7/site-packages/urllib3/util/ssl_.py)', 'urllib3.util (/opt/amazon/lib/python3.7/site-packages/urllib3/util/__init__.py)']. \n",
      "  monkey.patch_all(subprocess=True)\u001b[0m\n",
      "\u001b[34m[2023-11-04 10:42:24 +0000] [24] [INFO] Booting worker with pid: 24\u001b[0m\n",
      "\u001b[34m[2023-11-04:10:42:24:INFO] Model loaded successfully for worker : 22\u001b[0m\n",
      "\u001b[34m/opt/amazon/lib/python3.7/site-packages/gunicorn/workers/ggevent.py:65: MonkeyPatchWarning: Monkey-patching ssl after ssl has already been imported may lead to errors, including RecursionError on Python 3.6. It may also silently lead to incorrect behaviour on Python 3.7. Please monkey-patch earlier. See https://github.com/gevent/gevent/issues/1016. Modules that had direct imports (NOT patched): ['urllib3.util.ssl_ (/opt/amazon/lib/python3.7/site-packages/urllib3/util/ssl_.py)', 'urllib3.util (/opt/amazon/lib/python3.7/site-packages/urllib3/util/__init__.py)']. \n",
      "  monkey.patch_all(subprocess=True)\u001b[0m\n",
      "\u001b[34m[2023-11-04:10:42:24:INFO] Model loaded successfully for worker : 23\u001b[0m\n",
      "\u001b[34m/opt/amazon/lib/python3.7/site-packages/gunicorn/workers/ggevent.py:65: MonkeyPatchWarning: Monkey-patching ssl after ssl has already been imported may lead to errors, including RecursionError on Python 3.6. It may also silently lead to incorrect behaviour on Python 3.7. Please monkey-patch earlier. See https://github.com/gevent/gevent/issues/1016. Modules that had direct imports (NOT patched): ['urllib3.util.ssl_ (/opt/amazon/lib/python3.7/site-packages/urllib3/util/ssl_.py)', 'urllib3.util (/opt/amazon/lib/python3.7/site-packages/urllib3/util/__init__.py)']. \n",
      "  monkey.patch_all(subprocess=True)\u001b[0m\n",
      "\u001b[34m[2023-11-04:10:42:24:INFO] Model loaded successfully for worker : 24\u001b[0m\n",
      "\u001b[32m2023-11-04T10:42:28.703:[sagemaker logs]: MaxConcurrentTransforms=4, MaxPayloadInMB=6, BatchStrategy=MULTI_RECORD\u001b[0m\n",
      "\u001b[34m[2023-11-04:10:42:30:INFO] Sniff delimiter as ','\u001b[0m\n",
      "\u001b[35m[2023-11-04:10:42:30:INFO] Sniff delimiter as ','\u001b[0m\n",
      "\u001b[34m[2023-11-04:10:42:30:INFO] Determined delimiter of CSV input is ','\u001b[0m\n",
      "\u001b[35m[2023-11-04:10:42:30:INFO] Determined delimiter of CSV input is ','\u001b[0m\n",
      "\u001b[34m[2023-11-04:10:42:30:INFO] Sniff delimiter as ','\u001b[0m\n",
      "\u001b[35m[2023-11-04:10:42:30:INFO] Sniff delimiter as ','\u001b[0m\n",
      "\u001b[34m[2023-11-04:10:42:30:INFO] Determined delimiter of CSV input is ','\u001b[0m\n",
      "\u001b[34m[2023-11-04:10:42:30:INFO] Sniff delimiter as ','\u001b[0m\n",
      "\u001b[34m[2023-11-04:10:42:30:INFO] Determined delimiter of CSV input is ','\u001b[0m\n",
      "\u001b[34m[2023-11-04:10:42:30:INFO] Sniff delimiter as ','\u001b[0m\n",
      "\u001b[34m[2023-11-04:10:42:30:INFO] Determined delimiter of CSV input is ','\u001b[0m\n",
      "\u001b[35m[2023-11-04:10:42:30:INFO] Determined delimiter of CSV input is ','\u001b[0m\n",
      "\u001b[35m[2023-11-04:10:42:30:INFO] Sniff delimiter as ','\u001b[0m\n",
      "\u001b[35m[2023-11-04:10:42:30:INFO] Determined delimiter of CSV input is ','\u001b[0m\n",
      "\u001b[35m[2023-11-04:10:42:30:INFO] Sniff delimiter as ','\u001b[0m\n",
      "\u001b[35m[2023-11-04:10:42:30:INFO] Determined delimiter of CSV input is ','\u001b[0m\n",
      "\u001b[34m[2023-11-04:10:42:34:INFO] Sniff delimiter as ','\u001b[0m\n",
      "\u001b[34m[2023-11-04:10:42:34:INFO] Determined delimiter of CSV input is ','\u001b[0m\n",
      "\u001b[34m[2023-11-04:10:42:34:INFO] Sniff delimiter as ','\u001b[0m\n",
      "\u001b[34m[2023-11-04:10:42:34:INFO] Determined delimiter of CSV input is ','\u001b[0m\n",
      "\u001b[34m[2023-11-04:10:42:34:INFO] Sniff delimiter as ','\u001b[0m\n",
      "\u001b[34m[2023-11-04:10:42:34:INFO] Determined delimiter of CSV input is ','\u001b[0m\n",
      "\u001b[34m[2023-11-04:10:42:34:INFO] Sniff delimiter as ','\u001b[0m\n",
      "\u001b[34m[2023-11-04:10:42:34:INFO] Determined delimiter of CSV input is ','\u001b[0m\n",
      "\u001b[35m[2023-11-04:10:42:34:INFO] Sniff delimiter as ','\u001b[0m\n",
      "\u001b[35m[2023-11-04:10:42:34:INFO] Determined delimiter of CSV input is ','\u001b[0m\n",
      "\u001b[35m[2023-11-04:10:42:34:INFO] Sniff delimiter as ','\u001b[0m\n",
      "\u001b[35m[2023-11-04:10:42:34:INFO] Determined delimiter of CSV input is ','\u001b[0m\n",
      "\u001b[35m[2023-11-04:10:42:34:INFO] Sniff delimiter as ','\u001b[0m\n",
      "\u001b[35m[2023-11-04:10:42:34:INFO] Determined delimiter of CSV input is ','\u001b[0m\n",
      "\u001b[35m[2023-11-04:10:42:34:INFO] Sniff delimiter as ','\u001b[0m\n",
      "\u001b[35m[2023-11-04:10:42:34:INFO] Determined delimiter of CSV input is ','\u001b[0m\n",
      "\n",
      "\u001b[34mArguments: serve\u001b[0m\n",
      "\u001b[35mArguments: serve\u001b[0m\n",
      "\u001b[34m[2023-11-04 10:42:24 +0000] [1] [INFO] Starting gunicorn 19.9.0\u001b[0m\n",
      "\u001b[34m[2023-11-04 10:42:24 +0000] [1] [INFO] Listening at: http://0.0.0.0:8080 (1)\u001b[0m\n",
      "\u001b[34m[2023-11-04 10:42:24 +0000] [1] [INFO] Using worker: gevent\u001b[0m\n",
      "\u001b[34m[2023-11-04 10:42:24 +0000] [21] [INFO] Booting worker with pid: 21\u001b[0m\n",
      "\u001b[34m[2023-11-04 10:42:24 +0000] [22] [INFO] Booting worker with pid: 22\u001b[0m\n",
      "\u001b[34m[2023-11-04 10:42:24 +0000] [23] [INFO] Booting worker with pid: 23\u001b[0m\n",
      "\u001b[34m/opt/amazon/lib/python3.7/site-packages/gunicorn/workers/ggevent.py:65: MonkeyPatchWarning: Monkey-patching ssl after ssl has already been imported may lead to errors, including RecursionError on Python 3.6. It may also silently lead to incorrect behaviour on Python 3.7. Please monkey-patch earlier. See https://github.com/gevent/gevent/issues/1016. Modules that had direct imports (NOT patched): ['urllib3.util.ssl_ (/opt/amazon/lib/python3.7/site-packages/urllib3/util/ssl_.py)', 'urllib3.util (/opt/amazon/lib/python3.7/site-packages/urllib3/util/__init__.py)']. \n",
      "  monkey.patch_all(subprocess=True)\u001b[0m\n",
      "\u001b[34m[2023-11-04:10:42:24:INFO] Model loaded successfully for worker : 21\u001b[0m\n",
      "\u001b[34m/opt/amazon/lib/python3.7/site-packages/gunicorn/workers/ggevent.py:65: MonkeyPatchWarning: Monkey-patching ssl after ssl has already been imported may lead to errors, including RecursionError on Python 3.6. It may also silently lead to incorrect behaviour on Python 3.7. Please monkey-patch earlier. See https://github.com/gevent/gevent/issues/1016. Modules that had direct imports (NOT patched): ['urllib3.util.ssl_ (/opt/amazon/lib/python3.7/site-packages/urllib3/util/ssl_.py)', 'urllib3.util (/opt/amazon/lib/python3.7/site-packages/urllib3/util/__init__.py)']. \n",
      "  monkey.patch_all(subprocess=True)\u001b[0m\n",
      "\u001b[34m[2023-11-04 10:42:24 +0000] [24] [INFO] Booting worker with pid: 24\u001b[0m\n",
      "\u001b[34m[2023-11-04:10:42:24:INFO] Model loaded successfully for worker : 22\u001b[0m\n",
      "\u001b[34m/opt/amazon/lib/python3.7/site-packages/gunicorn/workers/ggevent.py:65: MonkeyPatchWarning: Monkey-patching ssl after ssl has already been imported may lead to errors, including RecursionError on Python 3.6. It may also silently lead to incorrect behaviour on Python 3.7. Please monkey-patch earlier. See https://github.com/gevent/gevent/issues/1016. Modules that had direct imports (NOT patched): ['urllib3.util.ssl_ (/opt/amazon/lib/python3.7/site-packages/urllib3/util/ssl_.py)', 'urllib3.util (/opt/amazon/lib/python3.7/site-packages/urllib3/util/__init__.py)']. \n",
      "  monkey.patch_all(subprocess=True)\u001b[0m\n",
      "\u001b[34m[2023-11-04:10:42:24:INFO] Model loaded successfully for worker : 23\u001b[0m\n",
      "\u001b[34m/opt/amazon/lib/python3.7/site-packages/gunicorn/workers/ggevent.py:65: MonkeyPatchWarning: Monkey-patching ssl after ssl has already been imported may lead to errors, including RecursionError on Python 3.6. It may also silently lead to incorrect behaviour on Python 3.7. Please monkey-patch earlier. See https://github.com/gevent/gevent/issues/1016. Modules that had direct imports (NOT patched): ['urllib3.util.ssl_ (/opt/amazon/lib/python3.7/site-packages/urllib3/util/ssl_.py)', 'urllib3.util (/opt/amazon/lib/python3.7/site-packages/urllib3/util/__init__.py)']. \n",
      "  monkey.patch_all(subprocess=True)\u001b[0m\n",
      "\u001b[35m[2023-11-04 10:42:24 +0000] [1] [INFO] Starting gunicorn 19.9.0\u001b[0m\n",
      "\u001b[35m[2023-11-04 10:42:24 +0000] [1] [INFO] Listening at: http://0.0.0.0:8080 (1)\u001b[0m\n",
      "\u001b[35m[2023-11-04 10:42:24 +0000] [1] [INFO] Using worker: gevent\u001b[0m\n",
      "\u001b[35m[2023-11-04 10:42:24 +0000] [21] [INFO] Booting worker with pid: 21\u001b[0m\n",
      "\u001b[35m[2023-11-04 10:42:24 +0000] [22] [INFO] Booting worker with pid: 22\u001b[0m\n",
      "\u001b[35m[2023-11-04 10:42:24 +0000] [23] [INFO] Booting worker with pid: 23\u001b[0m\n",
      "\u001b[35m/opt/amazon/lib/python3.7/site-packages/gunicorn/workers/ggevent.py:65: MonkeyPatchWarning: Monkey-patching ssl after ssl has already been imported may lead to errors, including RecursionError on Python 3.6. It may also silently lead to incorrect behaviour on Python 3.7. Please monkey-patch earlier. See https://github.com/gevent/gevent/issues/1016. Modules that had direct imports (NOT patched): ['urllib3.util.ssl_ (/opt/amazon/lib/python3.7/site-packages/urllib3/util/ssl_.py)', 'urllib3.util (/opt/amazon/lib/python3.7/site-packages/urllib3/util/__init__.py)']. \n",
      "  monkey.patch_all(subprocess=True)\u001b[0m\n",
      "\u001b[35m[2023-11-04:10:42:24:INFO] Model loaded successfully for worker : 21\u001b[0m\n",
      "\u001b[35m/opt/amazon/lib/python3.7/site-packages/gunicorn/workers/ggevent.py:65: MonkeyPatchWarning: Monkey-patching ssl after ssl has already been imported may lead to errors, including RecursionError on Python 3.6. It may also silently lead to incorrect behaviour on Python 3.7. Please monkey-patch earlier. See https://github.com/gevent/gevent/issues/1016. Modules that had direct imports (NOT patched): ['urllib3.util.ssl_ (/opt/amazon/lib/python3.7/site-packages/urllib3/util/ssl_.py)', 'urllib3.util (/opt/amazon/lib/python3.7/site-packages/urllib3/util/__init__.py)']. \n",
      "  monkey.patch_all(subprocess=True)\u001b[0m\n",
      "\u001b[35m[2023-11-04 10:42:24 +0000] [24] [INFO] Booting worker with pid: 24\u001b[0m\n",
      "\u001b[35m[2023-11-04:10:42:24:INFO] Model loaded successfully for worker : 22\u001b[0m\n",
      "\u001b[35m/opt/amazon/lib/python3.7/site-packages/gunicorn/workers/ggevent.py:65: MonkeyPatchWarning: Monkey-patching ssl after ssl has already been imported may lead to errors, including RecursionError on Python 3.6. It may also silently lead to incorrect behaviour on Python 3.7. Please monkey-patch earlier. See https://github.com/gevent/gevent/issues/1016. Modules that had direct imports (NOT patched): ['urllib3.util.ssl_ (/opt/amazon/lib/python3.7/site-packages/urllib3/util/ssl_.py)', 'urllib3.util (/opt/amazon/lib/python3.7/site-packages/urllib3/util/__init__.py)']. \n",
      "  monkey.patch_all(subprocess=True)\u001b[0m\n",
      "\u001b[35m[2023-11-04:10:42:24:INFO] Model loaded successfully for worker : 23\u001b[0m\n",
      "\u001b[35m/opt/amazon/lib/python3.7/site-packages/gunicorn/workers/ggevent.py:65: MonkeyPatchWarning: Monkey-patching ssl after ssl has already been imported may lead to errors, including RecursionError on Python 3.6. It may also silently lead to incorrect behaviour on Python 3.7. Please monkey-patch earlier. See https://github.com/gevent/gevent/issues/1016. Modules that had direct imports (NOT patched): ['urllib3.util.ssl_ (/opt/amazon/lib/python3.7/site-packages/urllib3/util/ssl_.py)', 'urllib3.util (/opt/amazon/lib/python3.7/site-packages/urllib3/util/__init__.py)']. \n",
      "  monkey.patch_all(subprocess=True)\u001b[0m\n",
      "\u001b[34m[2023-11-04:10:42:24:INFO] Model loaded successfully for worker : 24\u001b[0m\n",
      "\u001b[35m[2023-11-04:10:42:24:INFO] Model loaded successfully for worker : 24\u001b[0m\n",
      "\u001b[32m2023-11-04T10:42:28.703:[sagemaker logs]: MaxConcurrentTransforms=4, MaxPayloadInMB=6, BatchStrategy=MULTI_RECORD\u001b[0m\n",
      "\u001b[34m[2023-11-04:10:42:30:INFO] Sniff delimiter as ','\u001b[0m\n",
      "\u001b[35m[2023-11-04:10:42:30:INFO] Sniff delimiter as ','\u001b[0m\n",
      "\u001b[34m[2023-11-04:10:42:30:INFO] Determined delimiter of CSV input is ','\u001b[0m\n",
      "\u001b[35m[2023-11-04:10:42:30:INFO] Determined delimiter of CSV input is ','\u001b[0m\n",
      "\u001b[34m[2023-11-04:10:42:30:INFO] Sniff delimiter as ','\u001b[0m\n",
      "\u001b[35m[2023-11-04:10:42:30:INFO] Sniff delimiter as ','\u001b[0m\n",
      "\u001b[34m[2023-11-04:10:42:30:INFO] Determined delimiter of CSV input is ','\u001b[0m\n",
      "\u001b[34m[2023-11-04:10:42:30:INFO] Sniff delimiter as ','\u001b[0m\n",
      "\u001b[34m[2023-11-04:10:42:30:INFO] Determined delimiter of CSV input is ','\u001b[0m\n",
      "\u001b[34m[2023-11-04:10:42:30:INFO] Sniff delimiter as ','\u001b[0m\n",
      "\u001b[34m[2023-11-04:10:42:30:INFO] Determined delimiter of CSV input is ','\u001b[0m\n",
      "\u001b[35m[2023-11-04:10:42:30:INFO] Determined delimiter of CSV input is ','\u001b[0m\n",
      "\u001b[35m[2023-11-04:10:42:30:INFO] Sniff delimiter as ','\u001b[0m\n",
      "\u001b[35m[2023-11-04:10:42:30:INFO] Determined delimiter of CSV input is ','\u001b[0m\n",
      "\u001b[35m[2023-11-04:10:42:30:INFO] Sniff delimiter as ','\u001b[0m\n",
      "\u001b[35m[2023-11-04:10:42:30:INFO] Determined delimiter of CSV input is ','\u001b[0m\n",
      "\u001b[34m[2023-11-04:10:42:34:INFO] Sniff delimiter as ','\u001b[0m\n",
      "\u001b[34m[2023-11-04:10:42:34:INFO] Determined delimiter of CSV input is ','\u001b[0m\n",
      "\u001b[34m[2023-11-04:10:42:34:INFO] Sniff delimiter as ','\u001b[0m\n",
      "\u001b[34m[2023-11-04:10:42:34:INFO] Determined delimiter of CSV input is ','\u001b[0m\n",
      "\u001b[34m[2023-11-04:10:42:34:INFO] Sniff delimiter as ','\u001b[0m\n",
      "\u001b[34m[2023-11-04:10:42:34:INFO] Determined delimiter of CSV input is ','\u001b[0m\n",
      "\u001b[34m[2023-11-04:10:42:34:INFO] Sniff delimiter as ','\u001b[0m\n",
      "\u001b[34m[2023-11-04:10:42:34:INFO] Determined delimiter of CSV input is ','\u001b[0m\n",
      "\u001b[35m[2023-11-04:10:42:34:INFO] Sniff delimiter as ','\u001b[0m\n",
      "\u001b[35m[2023-11-04:10:42:34:INFO] Determined delimiter of CSV input is ','\u001b[0m\n",
      "\u001b[35m[2023-11-04:10:42:34:INFO] Sniff delimiter as ','\u001b[0m\n",
      "\u001b[35m[2023-11-04:10:42:34:INFO] Determined delimiter of CSV input is ','\u001b[0m\n",
      "\u001b[35m[2023-11-04:10:42:34:INFO] Sniff delimiter as ','\u001b[0m\n",
      "\u001b[35m[2023-11-04:10:42:34:INFO] Determined delimiter of CSV input is ','\u001b[0m\n",
      "\u001b[35m[2023-11-04:10:42:34:INFO] Sniff delimiter as ','\u001b[0m\n",
      "\u001b[35m[2023-11-04:10:42:34:INFO] Determined delimiter of CSV input is ','\u001b[0m\n"
     ]
    }
   ],
   "source": [
    "\n",
    "# Transforming the test Data\n",
    "xgboost_transformer.transform(X_test_path, content_type=\"text/csv\", split_type=\"Line\")\n",
    "xgboost_transformer.wait()"
   ]
  },
  {
   "cell_type": "code",
   "execution_count": 50,
   "id": "81554d6b",
   "metadata": {},
   "outputs": [],
   "source": [
    "### Predict the model\n",
    "y_file = boto3.client(\"s3\").get_object(Bucket = bucket, Key = f\"{prefix}output/X_test.csv.out\")\n",
    "y_pred = pd.read_csv(io.BytesIO(y_file[\"Body\"].read()), header = None, names = [\"Predicted\"])"
   ]
  },
  {
   "cell_type": "code",
   "execution_count": 51,
   "id": "f7afa043",
   "metadata": {},
   "outputs": [],
   "source": [
    "y_pred[\"actual\"] = y_pred[\"Predicted\"].apply(lambda x : 1 if x > 0.5 else 0)"
   ]
  },
  {
   "cell_type": "markdown",
   "id": "96edfdcf",
   "metadata": {},
   "source": [
    "### 5. Report the performance metrics that you see better test the model performance "
   ]
  },
  {
   "cell_type": "code",
   "execution_count": 52,
   "id": "0473a624",
   "metadata": {},
   "outputs": [
    {
     "name": "stdout",
     "output_type": "stream",
     "text": [
      "Accuracy: 0.8005771629344007\n"
     ]
    }
   ],
   "source": [
    "### Calculating Accuracy\n",
    "accuracy = accuracy_score(test_y, y_pred[\"actual\"])\n",
    "print(\"Accuracy:\", accuracy)"
   ]
  },
  {
   "cell_type": "code",
   "execution_count": 53,
   "id": "fd69e1d9",
   "metadata": {},
   "outputs": [
    {
     "name": "stdout",
     "output_type": "stream",
     "text": [
      "[[191000   2618]\n",
      " [ 46308   5412]]\n"
     ]
    },
    {
     "data": {
      "text/plain": [
       "Text(0.5, 1.0, 'Confusion matrix with Accuracy score: 0.8005771629344007')"
      ]
     },
     "execution_count": 53,
     "metadata": {},
     "output_type": "execute_result"
    },
    {
     "data": {
      "image/png": "[encoded data removed]",
      "text/plain": [
       "<Figure size 600x500 with 2 Axes>"
      ]
     },
     "metadata": {},
     "output_type": "display_data"
    }
   ],
   "source": [
    "from sklearn.metrics import confusion_matrix\n",
    "import matplotlib.pyplot as plt\n",
    "matrix = confusion_matrix(test_y, y_pred[\"actual\"])\n",
    "df_confusion = pd.DataFrame(matrix, index=['Not Delayed','Delayed'],columns=['Not Delayed','Delayed'])\n",
    "\n",
    "df_confusion\n",
    "\n",
    "cm = confusion_matrix(test_y, y_pred[\"actual\"])\n",
    "print(cm)\n",
    "plt.figure(figsize=(6,5))\n",
    "sns.heatmap(cm, annot=True, fmt=\"d\",\n",
    "cmap=\"YlGnBu\", \n",
    "xticklabels=['Not Delayed', 'Delayed'], yticklabels=['Not Delayed', 'Delayed'])\n",
    "plt.xlabel('Predicted')\n",
    "plt.ylabel('Actual')\n",
    "plt.title('Confusion matrix with Accuracy score: {0}'.format(accuracy))"
   ]
  },
  {
   "cell_type": "code",
   "execution_count": 55,
   "id": "047b382a",
   "metadata": {},
   "outputs": [
    {
     "name": "stdout",
     "output_type": "stream",
     "text": [
      "Accuracy : 0.8005771629344007\n",
      "Precision : 0.673972602739726\n",
      "Recall : 0.10464037122969838\n",
      "F1-Score : 0.1811548117154812\n"
     ]
    }
   ],
   "source": [
    "### Find out Accuracy, Precesion, recall & F1- Score after feature engineering\n",
    "accuracy = accuracy_score(test_y, y_pred[\"actual\"])\n",
    "precision = precision_score(test_y, y_pred[\"actual\"])\n",
    "recall = recall_score(test_y, y_pred[\"actual\"])\n",
    "f1 = f1_score(test_y, y_pred[\"actual\"])\n",
    "print(\"Accuracy :\", accuracy)\n",
    "print(\"Precision :\", precision)\n",
    "print(\"Recall :\", recall)\n",
    "print(\"F1-Score :\", f1)"
   ]
  },
  {
   "cell_type": "markdown",
   "id": "f4872192",
   "metadata": {},
   "source": [
    "### 6. write down your observation on the difference between the performance of using the simple and ensemble models.\n",
    "- Ensemble models like XGBOOST is giving more accuracy compared to normal model, and the precision is also high and recall is also good compared to simple methods."
   ]
  },
  {
   "cell_type": "code",
   "execution_count": 75,
   "id": "1fd85566",
   "metadata": {},
   "outputs": [],
   "source": [
    "### Linear learner is in another file"
   ]
  },
  {
   "cell_type": "code",
   "execution_count": null,
   "id": "bbe0277f",
   "metadata": {},
   "outputs": [],
   "source": []
  }
 ],
 "metadata": {
  "kernelspec": {
   "display_name": "conda_python3",
   "language": "python",
   "name": "conda_python3"
  },
  "language_info": {
   "codemirror_mode": {
    "name": "ipython",
    "version": 3
   },
   "file_extension": ".py",
   "mimetype": "text/x-python",
   "name": "python",
   "nbconvert_exporter": "python",
   "pygments_lexer": "ipython3",
   "version": "3.10.12"
  }
 },
 "nbformat": 4,
 "nbformat_minor": 5
}
