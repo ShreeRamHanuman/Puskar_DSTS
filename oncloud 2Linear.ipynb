{
 "cells": [
  {
   "cell_type": "markdown",
   "metadata": {},
   "source": [
    "### This is the continuatation from the oncloud XGBoost project part, we already have setupped the project, this part only contains the classification."
   ]
  },
  {
   "cell_type": "code",
   "execution_count": 2,
   "id": "5d79a8af",
   "metadata": {},
   "outputs": [],
   "source": [
    "### Extract Zip Files in AWS One time only.\n",
    "import zipfile\n",
    "zip_file_path = 'combined1.zip' \n",
    "extracted_dir = 'zipExtract/' \n",
    "with zipfile.ZipFile(zip_file_path, 'r') as zip_ref:\n",
    "    zip_ref.extractall(extracted_dir)\n",
    "\n",
    "zip_file_path = 'combined2.zip' \n",
    "extracted_dir = 'zipExtract/' \n",
    "with zipfile.ZipFile(zip_file_path, 'r') as zip_ref:\n",
    "    zip_ref.extractall(extracted_dir)"
   ]
  },
  {
   "cell_type": "markdown",
   "metadata": {},
   "source": [
    "Loading the required library "
   ]
  },
  {
   "cell_type": "code",
   "execution_count": 1,
   "id": "f03f3964",
   "metadata": {},
   "outputs": [
    {
     "name": "stdout",
     "output_type": "stream",
     "text": [
      "sagemaker.config INFO - Not applying SDK defaults from location: /etc/xdg/sagemaker/config.yaml\n",
      "sagemaker.config INFO - Not applying SDK defaults from location: /home/ec2-user/.config/sagemaker/config.yaml\n",
      "sagemaker.config INFO - Not applying SDK defaults from location: /etc/xdg/sagemaker/config.yaml\n",
      "sagemaker.config INFO - Not applying SDK defaults from location: /home/ec2-user/.config/sagemaker/config.yaml\n"
     ]
    }
   ],
   "source": [
    "# import required Library\n",
    "import pandas as pd\n",
    "import numpy as np\n",
    "import os\n",
    "import boto3\n",
    "import sagemaker\n",
    "from sagemaker.image_uris import retrieve\n",
    "from sklearn.model_selection import train_test_split\n",
    "import warnings, requests, zipfile, io\n",
    "from sagemaker import image_uris\n",
    "from sagemaker.estimator import Estimator\n",
    "from sklearn.metrics import accuracy_score\n",
    "session = sagemaker.Session()\n",
    "bucket = session.default_bucket()\n",
    "region = boto3.Session().region_name"
   ]
  },
  {
   "cell_type": "markdown",
   "metadata": {},
   "source": [
    "### Loading the both version of the CSV files from the PART A "
   ]
  },
  {
   "cell_type": "code",
   "execution_count": 3,
   "id": "b5a0238c",
   "metadata": {},
   "outputs": [],
   "source": [
    "df1 = pd.read_csv(\"zipExtract/combined_csv_v1.csv\",low_memory=False)\n",
    "df1 = df1.replace({True: 1, False: 0})\n",
    "df2 = pd.read_csv(\"zipExtract/combined_csv_v2.csv\",low_memory=False)\n",
    "df2 = df2.replace({True: 1, False: 0})"
   ]
  },
  {
   "cell_type": "code",
   "execution_count": 4,
   "id": "1b1d33b9",
   "metadata": {},
   "outputs": [
    {
     "data": {
      "text/html": [
       "<div>\n",
       "<style scoped>\n",
       "    .dataframe tbody tr th:only-of-type {\n",
       "        vertical-align: middle;\n",
       "    }\n",
       "\n",
       "    .dataframe tbody tr th {\n",
       "        vertical-align: top;\n",
       "    }\n",
       "\n",
       "    .dataframe thead th {\n",
       "        text-align: right;\n",
       "    }\n",
       "</style>\n",
       "<table border=\"1\" class=\"dataframe\">\n",
       "  <thead>\n",
       "    <tr style=\"text-align: right;\">\n",
       "      <th></th>\n",
       "      <th>target</th>\n",
       "      <th>Distance</th>\n",
       "      <th>Quarter_2</th>\n",
       "      <th>Quarter_3</th>\n",
       "      <th>Quarter_4</th>\n",
       "      <th>Month_2</th>\n",
       "      <th>Month_3</th>\n",
       "      <th>Month_4</th>\n",
       "      <th>Month_5</th>\n",
       "      <th>Month_6</th>\n",
       "      <th>...</th>\n",
       "      <th>DepHourofDay_14</th>\n",
       "      <th>DepHourofDay_15</th>\n",
       "      <th>DepHourofDay_16</th>\n",
       "      <th>DepHourofDay_17</th>\n",
       "      <th>DepHourofDay_18</th>\n",
       "      <th>DepHourofDay_19</th>\n",
       "      <th>DepHourofDay_20</th>\n",
       "      <th>DepHourofDay_21</th>\n",
       "      <th>DepHourofDay_22</th>\n",
       "      <th>DepHourofDay_23</th>\n",
       "    </tr>\n",
       "  </thead>\n",
       "  <tbody>\n",
       "    <tr>\n",
       "      <th>0</th>\n",
       "      <td>0.0</td>\n",
       "      <td>1464.0</td>\n",
       "      <td>False</td>\n",
       "      <td>False</td>\n",
       "      <td>True</td>\n",
       "      <td>False</td>\n",
       "      <td>False</td>\n",
       "      <td>False</td>\n",
       "      <td>False</td>\n",
       "      <td>False</td>\n",
       "      <td>...</td>\n",
       "      <td>False</td>\n",
       "      <td>False</td>\n",
       "      <td>False</td>\n",
       "      <td>False</td>\n",
       "      <td>False</td>\n",
       "      <td>False</td>\n",
       "      <td>False</td>\n",
       "      <td>False</td>\n",
       "      <td>False</td>\n",
       "      <td>False</td>\n",
       "    </tr>\n",
       "    <tr>\n",
       "      <th>1</th>\n",
       "      <td>1.0</td>\n",
       "      <td>1464.0</td>\n",
       "      <td>False</td>\n",
       "      <td>False</td>\n",
       "      <td>True</td>\n",
       "      <td>False</td>\n",
       "      <td>False</td>\n",
       "      <td>False</td>\n",
       "      <td>False</td>\n",
       "      <td>False</td>\n",
       "      <td>...</td>\n",
       "      <td>False</td>\n",
       "      <td>False</td>\n",
       "      <td>False</td>\n",
       "      <td>False</td>\n",
       "      <td>False</td>\n",
       "      <td>False</td>\n",
       "      <td>False</td>\n",
       "      <td>False</td>\n",
       "      <td>False</td>\n",
       "      <td>False</td>\n",
       "    </tr>\n",
       "    <tr>\n",
       "      <th>2</th>\n",
       "      <td>0.0</td>\n",
       "      <td>1464.0</td>\n",
       "      <td>False</td>\n",
       "      <td>False</td>\n",
       "      <td>True</td>\n",
       "      <td>False</td>\n",
       "      <td>False</td>\n",
       "      <td>False</td>\n",
       "      <td>False</td>\n",
       "      <td>False</td>\n",
       "      <td>...</td>\n",
       "      <td>False</td>\n",
       "      <td>False</td>\n",
       "      <td>False</td>\n",
       "      <td>False</td>\n",
       "      <td>False</td>\n",
       "      <td>False</td>\n",
       "      <td>False</td>\n",
       "      <td>False</td>\n",
       "      <td>False</td>\n",
       "      <td>False</td>\n",
       "    </tr>\n",
       "    <tr>\n",
       "      <th>3</th>\n",
       "      <td>0.0</td>\n",
       "      <td>1464.0</td>\n",
       "      <td>False</td>\n",
       "      <td>False</td>\n",
       "      <td>True</td>\n",
       "      <td>False</td>\n",
       "      <td>False</td>\n",
       "      <td>False</td>\n",
       "      <td>False</td>\n",
       "      <td>False</td>\n",
       "      <td>...</td>\n",
       "      <td>False</td>\n",
       "      <td>False</td>\n",
       "      <td>False</td>\n",
       "      <td>False</td>\n",
       "      <td>False</td>\n",
       "      <td>False</td>\n",
       "      <td>False</td>\n",
       "      <td>False</td>\n",
       "      <td>False</td>\n",
       "      <td>False</td>\n",
       "    </tr>\n",
       "    <tr>\n",
       "      <th>4</th>\n",
       "      <td>0.0</td>\n",
       "      <td>1464.0</td>\n",
       "      <td>False</td>\n",
       "      <td>False</td>\n",
       "      <td>True</td>\n",
       "      <td>False</td>\n",
       "      <td>False</td>\n",
       "      <td>False</td>\n",
       "      <td>False</td>\n",
       "      <td>False</td>\n",
       "      <td>...</td>\n",
       "      <td>False</td>\n",
       "      <td>False</td>\n",
       "      <td>False</td>\n",
       "      <td>False</td>\n",
       "      <td>False</td>\n",
       "      <td>False</td>\n",
       "      <td>False</td>\n",
       "      <td>False</td>\n",
       "      <td>False</td>\n",
       "      <td>False</td>\n",
       "    </tr>\n",
       "  </tbody>\n",
       "</table>\n",
       "<p>5 rows × 94 columns</p>\n",
       "</div>"
      ],
      "text/plain": [
       "   target  Distance  Quarter_2  Quarter_3  Quarter_4  Month_2  Month_3  \\\n",
       "0     0.0    1464.0      False      False       True    False    False   \n",
       "1     1.0    1464.0      False      False       True    False    False   \n",
       "2     0.0    1464.0      False      False       True    False    False   \n",
       "3     0.0    1464.0      False      False       True    False    False   \n",
       "4     0.0    1464.0      False      False       True    False    False   \n",
       "\n",
       "   Month_4  Month_5  Month_6  ...  DepHourofDay_14  DepHourofDay_15  \\\n",
       "0    False    False    False  ...            False            False   \n",
       "1    False    False    False  ...            False            False   \n",
       "2    False    False    False  ...            False            False   \n",
       "3    False    False    False  ...            False            False   \n",
       "4    False    False    False  ...            False            False   \n",
       "\n",
       "   DepHourofDay_16  DepHourofDay_17  DepHourofDay_18  DepHourofDay_19  \\\n",
       "0            False            False            False            False   \n",
       "1            False            False            False            False   \n",
       "2            False            False            False            False   \n",
       "3            False            False            False            False   \n",
       "4            False            False            False            False   \n",
       "\n",
       "   DepHourofDay_20  DepHourofDay_21  DepHourofDay_22  DepHourofDay_23  \n",
       "0            False            False            False            False  \n",
       "1            False            False            False            False  \n",
       "2            False            False            False            False  \n",
       "3            False            False            False            False  \n",
       "4            False            False            False            False  \n",
       "\n",
       "[5 rows x 94 columns]"
      ]
     },
     "execution_count": 4,
     "metadata": {},
     "output_type": "execute_result"
    }
   ],
   "source": [
    "#df1 = df1.replace({True: 1, False: 0})\n",
    "df1.head()"
   ]
  },
  {
   "cell_type": "markdown",
   "metadata": {},
   "source": [
    "### 1. Split data into training, validation and testing sets (70% - 15% - 15%). ---- CSV Version 1"
   ]
  },
  {
   "cell_type": "code",
   "execution_count": 5,
   "id": "a422a725",
   "metadata": {},
   "outputs": [],
   "source": [
    "### Split Data into training, Validation & tesing set (70-15-15)% for data 1 version 1\n",
    "train, test_and_validate = train_test_split(df1, test_size=0.3)\n",
    "test, validate = train_test_split(test_and_validate, test_size=0.5)\n",
    "train_file = 'train.csv'\n",
    "test_file = 'test.csv'\n",
    "validate_file = 'validate.csv'"
   ]
  },
  {
   "cell_type": "code",
   "execution_count": 6,
   "id": "76cbf60b",
   "metadata": {},
   "outputs": [],
   "source": [
    "x_test = test.drop(\"target\", axis =1)\n",
    "y_test = test[\"target\"]\n",
    "directory_path = 'csvfile/a'\n",
    "\n",
    "# Check if the directory exists, and if not, create it\n",
    "if not os.path.exists(directory_path):\n",
    "    os.makedirs(directory_path)\n",
    "\n",
    "file_path = os.path.join(directory_path, 'train_file')\n",
    "\n",
    "with open(file_path, 'w') as file:\n",
    "   file.write('This is some content.')\n",
    "\n",
    "train.to_csv(\"csvfile/a/train.csv\", index = False, header = False)\n",
    "validate.to_csv(\"csvfile/a/validation.csv\", index = False, header = False)\n",
    "test.to_csv(\"csvfile/a/test.csv\", index = False, header = False)"
   ]
  },
  {
   "cell_type": "markdown",
   "metadata": {},
   "source": [
    "### 2 Use the linear learner estimator to build a classification model"
   ]
  },
  {
   "cell_type": "code",
   "execution_count": 7,
   "id": "9fb7c1ce",
   "metadata": {},
   "outputs": [],
   "source": [
    "linear_learner_container = image_uris.retrieve(\"linear-learner\", region)"
   ]
  },
  {
   "cell_type": "code",
   "execution_count": 8,
   "id": "ff43a592",
   "metadata": {},
   "outputs": [],
   "source": [
    "### Uploading in AWS S3\n",
    "prefix = \"data_delay/a/\"\n",
    "train_path = session.upload_data(path=\"csvfile/a/train.csv\", key_prefix=prefix + \"input/training\")\n",
    "valid_path = session.upload_data(path=\"csvfile/a/validation.csv\", key_prefix=prefix + \"input/validation\" )\n",
    "test_path = session.upload_data(path=\"csvfile/a/test.csv\", key_prefix=prefix + \"input/test\" )"
   ]
  },
  {
   "cell_type": "code",
   "execution_count": null,
   "id": "9c69c48d",
   "metadata": {},
   "outputs": [],
   "source": [
    "print(train_path)\n",
    "print(valid_path)\n",
    "print(test_path)\n",
    "print(\"Files successfully uploaded in AWS SERVER !!!\")"
   ]
  },
  {
   "cell_type": "code",
   "execution_count": 10,
   "id": "b6d8d541",
   "metadata": {},
   "outputs": [
    {
     "name": "stdout",
     "output_type": "stream",
     "text": [
      "sagemaker.config INFO - Not applying SDK defaults from location: /etc/xdg/sagemaker/config.yaml\n",
      "sagemaker.config INFO - Not applying SDK defaults from location: /home/ec2-user/.config/sagemaker/config.yaml\n",
      "sagemaker.config INFO - Not applying SDK defaults from location: /etc/xdg/sagemaker/config.yaml\n",
      "sagemaker.config INFO - Not applying SDK defaults from location: /home/ec2-user/.config/sagemaker/config.yaml\n"
     ]
    }
   ],
   "source": [
    "linear_model1 = Estimator(linear_learner_container, \n",
    "                              role=sagemaker.get_execution_role(), \n",
    "                              instance_count=1, \n",
    "                              instance_type='ml.m5.2xlarge',\n",
    "                            output_path='s3://{}/{}a/output'.format(bucket,prefix))"
   ]
  },
  {
   "cell_type": "markdown",
   "metadata": {},
   "source": [
    "### Hyperparameter setting - To fasten the training process we used the batch size of 1000 and epochs 1"
   ]
  },
  {
   "cell_type": "code",
   "execution_count": 11,
   "id": "96cbaa54",
   "metadata": {},
   "outputs": [],
   "source": [
    "### Hyperparameter setting\n",
    "linear_model1.set_hyperparameters(predictor_type='binary_classifier', mini_batch_size=1000, num_models=1, num_classes=2,epochs=1)\n"
   ]
  },
  {
   "cell_type": "code",
   "execution_count": 12,
   "id": "3774c80b",
   "metadata": {},
   "outputs": [],
   "source": [
    "training_data_channel = sagemaker.TrainingInput(s3_data=train_path, content_type='text/csv')\n",
    "validation_data_channel = sagemaker.TrainingInput(s3_data=valid_path, content_type='text/csv')"
   ]
  },
  {
   "cell_type": "code",
   "execution_count": 13,
   "id": "03b89c74",
   "metadata": {},
   "outputs": [
    {
     "name": "stderr",
     "output_type": "stream",
     "text": [
      "INFO:sagemaker:Creating training-job with name: linear-learner-2023-11-04-09-07-48-399\n"
     ]
    },
    {
     "name": "stdout",
     "output_type": "stream",
     "text": [
      "2023-11-04 09:07:48 Starting - Starting the training job...\n",
      "2023-11-04 09:08:03 Starting - Preparing the instances for training......\n",
      "2023-11-04 09:09:06 Downloading - Downloading input data......\n",
      "2023-11-04 09:09:52 Training - Downloading the training image...\n",
      "2023-11-04 09:10:22 Training - Training image download completed. Training in progress..\u001b[34mDocker entrypoint called with argument(s): train\u001b[0m\n",
      "\u001b[34mRunning default environment configuration script\u001b[0m\n",
      "\u001b[34m[11/04/2023 09:10:47 INFO 139793846245184] Reading default configuration from /opt/amazon/lib/python3.8/site-packages/algorithm/resources/default-input.json: {'mini_batch_size': '1000', 'epochs': '15', 'feature_dim': 'auto', 'use_bias': 'true', 'binary_classifier_model_selection_criteria': 'accuracy', 'f_beta': '1.0', 'target_recall': '0.8', 'target_precision': '0.8', 'num_models': 'auto', 'num_calibration_samples': '10000000', 'init_method': 'uniform', 'init_scale': '0.07', 'init_sigma': '0.01', 'init_bias': '0.0', 'optimizer': 'auto', 'loss': 'auto', 'margin': '1.0', 'quantile': '0.5', 'loss_insensitivity': '0.01', 'huber_delta': '1.0', 'num_classes': '1', 'accuracy_top_k': '3', 'wd': 'auto', 'l1': 'auto', 'momentum': 'auto', 'learning_rate': 'auto', 'beta_1': 'auto', 'beta_2': 'auto', 'bias_lr_mult': 'auto', 'bias_wd_mult': 'auto', 'use_lr_scheduler': 'true', 'lr_scheduler_step': 'auto', 'lr_scheduler_factor': 'auto', 'lr_scheduler_minimum_lr': 'auto', 'positive_example_weight_mult': '1.0', 'balance_multiclass_weights': 'false', 'normalize_data': 'true', 'normalize_label': 'auto', 'unbias_data': 'auto', 'unbias_label': 'auto', 'num_point_for_scaler': '10000', '_kvstore': 'auto', '_num_gpus': 'auto', '_num_kv_servers': 'auto', '_log_level': 'info', '_tuning_objective_metric': '', 'early_stopping_patience': '3', 'early_stopping_tolerance': '0.001', '_enable_profiler': 'false'}\u001b[0m\n",
      "\u001b[34m[11/04/2023 09:10:47 INFO 139793846245184] Merging with provided configuration from /opt/ml/input/config/hyperparameters.json: {'epochs': '1', 'mini_batch_size': '1000', 'num_classes': '2', 'num_models': '1', 'predictor_type': 'binary_classifier'}\u001b[0m\n",
      "\u001b[34m[11/04/2023 09:10:47 INFO 139793846245184] Final configuration: {'mini_batch_size': '1000', 'epochs': '1', 'feature_dim': 'auto', 'use_bias': 'true', 'binary_classifier_model_selection_criteria': 'accuracy', 'f_beta': '1.0', 'target_recall': '0.8', 'target_precision': '0.8', 'num_models': '1', 'num_calibration_samples': '10000000', 'init_method': 'uniform', 'init_scale': '0.07', 'init_sigma': '0.01', 'init_bias': '0.0', 'optimizer': 'auto', 'loss': 'auto', 'margin': '1.0', 'quantile': '0.5', 'loss_insensitivity': '0.01', 'huber_delta': '1.0', 'num_classes': '2', 'accuracy_top_k': '3', 'wd': 'auto', 'l1': 'auto', 'momentum': 'auto', 'learning_rate': 'auto', 'beta_1': 'auto', 'beta_2': 'auto', 'bias_lr_mult': 'auto', 'bias_wd_mult': 'auto', 'use_lr_scheduler': 'true', 'lr_scheduler_step': 'auto', 'lr_scheduler_factor': 'auto', 'lr_scheduler_minimum_lr': 'auto', 'positive_example_weight_mult': '1.0', 'balance_multiclass_weights': 'false', 'normalize_data': 'true', 'normalize_label': 'auto', 'unbias_data': 'auto', 'unbias_label': 'auto', 'num_point_for_scaler': '10000', '_kvstore': 'auto', '_num_gpus': 'auto', '_num_kv_servers': 'auto', '_log_level': 'info', '_tuning_objective_metric': '', 'early_stopping_patience': '3', 'early_stopping_tolerance': '0.001', '_enable_profiler': 'false', 'predictor_type': 'binary_classifier'}\u001b[0m\n",
      "\u001b[34m/opt/amazon/lib/python3.8/site-packages/mxnet/model.py:97: SyntaxWarning: \"is\" with a literal. Did you mean \"==\"?\n",
      "  if num_device is 1 and 'dist' not in kvstore:\u001b[0m\n",
      "\u001b[34m/opt/amazon/lib/python3.8/site-packages/scipy/optimize/_shgo.py:495: SyntaxWarning: \"is\" with a literal. Did you mean \"==\"?\n",
      "  if cons['type'] is 'ineq':\u001b[0m\n",
      "\u001b[34m/opt/amazon/lib/python3.8/site-packages/scipy/optimize/_shgo.py:743: SyntaxWarning: \"is not\" with a literal. Did you mean \"!=\"?\n",
      "  if len(self.X_min) is not 0:\u001b[0m\n",
      "\u001b[34m[11/04/2023 09:10:50 WARNING 139793846245184] Loggers have already been setup.\u001b[0m\n",
      "\u001b[34m[11/04/2023 09:10:50 INFO 139793846245184] Final configuration: {'mini_batch_size': '1000', 'epochs': '1', 'feature_dim': 'auto', 'use_bias': 'true', 'binary_classifier_model_selection_criteria': 'accuracy', 'f_beta': '1.0', 'target_recall': '0.8', 'target_precision': '0.8', 'num_models': '1', 'num_calibration_samples': '10000000', 'init_method': 'uniform', 'init_scale': '0.07', 'init_sigma': '0.01', 'init_bias': '0.0', 'optimizer': 'auto', 'loss': 'auto', 'margin': '1.0', 'quantile': '0.5', 'loss_insensitivity': '0.01', 'huber_delta': '1.0', 'num_classes': '2', 'accuracy_top_k': '3', 'wd': 'auto', 'l1': 'auto', 'momentum': 'auto', 'learning_rate': 'auto', 'beta_1': 'auto', 'beta_2': 'auto', 'bias_lr_mult': 'auto', 'bias_wd_mult': 'auto', 'use_lr_scheduler': 'true', 'lr_scheduler_step': 'auto', 'lr_scheduler_factor': 'auto', 'lr_scheduler_minimum_lr': 'auto', 'positive_example_weight_mult': '1.0', 'balance_multiclass_weights': 'false', 'normalize_data': 'true', 'normalize_label': 'auto', 'unbias_data': 'auto', 'unbias_label': 'auto', 'num_point_for_scaler': '10000', '_kvstore': 'auto', '_num_gpus': 'auto', '_num_kv_servers': 'auto', '_log_level': 'info', '_tuning_objective_metric': '', 'early_stopping_patience': '3', 'early_stopping_tolerance': '0.001', '_enable_profiler': 'false', 'predictor_type': 'binary_classifier'}\u001b[0m\n",
      "\u001b[34m[11/04/2023 09:10:50 WARNING 139793846245184] Loggers have already been setup.\u001b[0m\n",
      "\u001b[34mProcess 8 is a worker.\u001b[0m\n",
      "\u001b[34m[11/04/2023 09:10:50 INFO 139793846245184] Using default worker.\u001b[0m\n",
      "\u001b[34m[11/04/2023 09:10:50 INFO 139793846245184] Checkpoint loading and saving are disabled.\u001b[0m\n",
      "\u001b[34m[11/04/2023 09:10:50 WARNING 139793846245184] predictor_type is 'binary_classifier', and num_classes is 2.  num_classes is only needed when predictor_type='multiclass_classifier'.  Ignoring num_classes and proceeding with binary classification.\u001b[0m\n",
      "\u001b[34m[11/04/2023 09:10:50 INFO 139793846245184] Create Store: local\u001b[0m\n",
      "\u001b[34m[11/04/2023 09:10:50 INFO 139793846245184] Scaler algorithm parameters\n",
      " <algorithm.scaler.ScalerAlgorithmStable object at 0x7f23a76887f0>\u001b[0m\n",
      "\u001b[34m[11/04/2023 09:10:50 INFO 139793846245184] Scaling model computed with parameters:\n",
      " {'stdev_label': None, 'stdev_weight': \u001b[0m\n",
      "\u001b[34m[5.4044464e+02 4.3467930e-01 4.3692884e-01 4.3545163e-01 2.5667292e-01\n",
      " 2.7436474e-01 2.7129319e-01 2.7888170e-01 2.8316268e-01 2.8487495e-01\n",
      " 2.8500605e-01 2.6917037e-01 2.8263271e-01 2.7833977e-01 2.7450320e-01\n",
      " 1.7816046e-01 1.7083751e-01 1.7958426e-01 1.7551579e-01 1.7934784e-01\n",
      " 1.8492572e-01 1.8515392e-01 1.8331908e-01 1.7454271e-01 1.7863652e-01\n",
      " 1.7887399e-01 1.7863648e-01 1.6958199e-01 1.7033656e-01 1.7744365e-01\n",
      " 1.8377976e-01 1.8005601e-01 1.7600000e-01 1.8583658e-01 1.8377975e-01\n",
      " 1.7208262e-01 1.7768298e-01 1.6678227e-01 1.8122913e-01 1.8099521e-01\n",
      " 1.7208263e-01 1.8216141e-01 1.7033656e-01 1.7551577e-01 1.3393594e-01\n",
      " 3.5563985e-01 3.5118189e-01 3.5246709e-01 3.5875633e-01 3.2250044e-01\n",
      " 3.4886357e-01 3.7289464e-01 2.4312641e-01 4.5587912e-01 3.1967905e-01\n",
      " 2.4410406e-01 3.2011586e-01 3.2958156e-01 2.7157450e-01 3.5866812e-01\n",
      " 3.3620337e-01 2.9657573e-01 3.3123362e-01 2.4312644e-01 3.1480640e-01\n",
      " 3.2400236e-01 2.7533180e-01 3.5035077e-01 3.3839193e-01 3.0024230e-01\n",
      " 3.3408976e-01 5.3011697e-02 1.6512204e-02 1.0000000e+00 1.5722696e-01\n",
      " 2.2421478e-01 2.5863835e-01 2.5190184e-01 2.4475296e-01 2.4523814e-01\n",
      " 2.3966351e-01 2.5636876e-01 2.4556091e-01 2.4049392e-01 2.2833481e-01\n",
      " 2.3933034e-01 2.4410403e-01 2.1007514e-01 2.2403349e-01 1.9229090e-01\n",
      " 1.5333146e-01 1.7008546e-01 1.0430245e-01]\u001b[0m\n",
      "\u001b[34m<NDArray 93 @cpu(0)>, 'mean_label': None, 'mean_weight': \u001b[0m\n",
      "\u001b[34m[1.00527527e+03 2.52909124e-01 2.56909132e-01 2.54272759e-01\n",
      " 7.09090903e-02 8.20000097e-02 8.00000057e-02 8.50000083e-02\n",
      " 8.79091024e-02 8.90909061e-02 8.91818255e-02 7.86363706e-02\n",
      " 8.75454620e-02 8.46363753e-02 8.20909142e-02 3.28181833e-02\n",
      " 3.00909113e-02 3.33636366e-02 3.18181850e-02 3.32727246e-02\n",
      " 3.54545489e-02 3.55454609e-02 3.48181836e-02 3.14545445e-02\n",
      " 3.29999998e-02 3.30909118e-02 3.30000073e-02 2.96363644e-02\n",
      " 2.99090948e-02 3.25454548e-02 3.50000076e-02 3.35454568e-02\n",
      " 3.20000052e-02 3.58181857e-02 3.50000039e-02 3.05454563e-02\n",
      " 3.26363631e-02 2.86363680e-02 3.40000018e-02 3.39090899e-02\n",
      " 3.05454563e-02 3.43636349e-02 2.99090929e-02 3.18181850e-02\n",
      " 1.82727296e-02 1.48545489e-01 1.44090906e-01 1.45363644e-01\n",
      " 1.51727259e-01 1.17909104e-01 1.41818210e-01 1.66909114e-01\n",
      " 6.30909055e-02 2.94636399e-01 1.15545467e-01 6.36363626e-02\n",
      " 1.15909100e-01 1.24000013e-01 8.01818296e-02 1.51636377e-01\n",
      " 1.29909083e-01 9.74545553e-02 1.25454545e-01 6.30909204e-02\n",
      " 1.11545473e-01 1.19181834e-01 8.26363713e-02 1.43272728e-01\n",
      " 1.31909102e-01 1.00181818e-01 1.28000006e-01 2.81818211e-03\n",
      " 2.72727280e-04 0.00000000e+00 2.53636390e-02 5.30909151e-02\n",
      " 7.20909163e-02 6.80909008e-02 6.40000105e-02 6.42727315e-02\n",
      " 6.11818247e-02 7.07272738e-02 6.44545555e-02 6.16363660e-02\n",
      " 5.51818237e-02 6.10000007e-02 6.36363626e-02 4.62727286e-02\n",
      " 5.30000068e-02 3.84545438e-02 2.40909141e-02 2.98181809e-02\u001b[0m\n",
      "\u001b[34m/opt/amazon/python3.8/lib/python3.8/subprocess.py:848: RuntimeWarning: line buffering (buffering=1) isn't supported in binary mode, the default buffer size will be used\n",
      " 1.10000018e-02]\u001b[0m\n",
      "\u001b[34m<NDArray 93 @cpu(0)>}\n",
      "  self.stdout = io.open(c2pread, 'rb', bufsize)\u001b[0m\n",
      "\u001b[34m[11/04/2023 09:10:50 INFO 139793846245184] nvidia-smi: took 0.032 seconds to run.\u001b[0m\n",
      "\u001b[34m[11/04/2023 09:10:50 INFO 139793846245184] nvidia-smi identified 0 GPUs.\u001b[0m\n",
      "\u001b[34m[11/04/2023 09:10:50 INFO 139793846245184] Number of GPUs being used: 0\u001b[0m\n",
      "\u001b[34m#metrics {\"StartTime\": 1699089050.72327, \"EndTime\": 1699089050.723304, \"Dimensions\": {\"Algorithm\": \"Linear Learner\", \"Host\": \"algo-1\", \"Operation\": \"training\", \"Meta\": \"init_train_data_iter\"}, \"Metrics\": {\"Total Records Seen\": {\"sum\": 12000.0, \"count\": 1, \"min\": 12000, \"max\": 12000}, \"Total Batches Seen\": {\"sum\": 12.0, \"count\": 1, \"min\": 12, \"max\": 12}, \"Max Records Seen Between Resets\": {\"sum\": 11000.0, \"count\": 1, \"min\": 11000, \"max\": 11000}, \"Max Batches Seen Between Resets\": {\"sum\": 11.0, \"count\": 1, \"min\": 11, \"max\": 11}, \"Reset Count\": {\"sum\": 2.0, \"count\": 1, \"min\": 2, \"max\": 2}, \"Number of Records Since Last Reset\": {\"sum\": 0.0, \"count\": 1, \"min\": 0, \"max\": 0}, \"Number of Batches Since Last Reset\": {\"sum\": 0.0, \"count\": 1, \"min\": 0, \"max\": 0}}}\u001b[0m\n",
      "\u001b[34m#metrics {\"StartTime\": 1699089068.951817, \"EndTime\": 1699089068.951848, \"Dimensions\": {\"Algorithm\": \"Linear Learner\", \"Host\": \"algo-1\", \"Operation\": \"training\", \"epoch\": 0, \"model\": 0}, \"Metrics\": {\"train_binary_classification_cross_entropy_objective\": {\"sum\": 0.49436467548183627, \"count\": 1, \"min\": 0.49436467548183627, \"max\": 0.49436467548183627}}}\u001b[0m\n",
      "\u001b[34m[11/04/2023 09:11:08 INFO 139793846245184] #quality_metric: host=algo-1, epoch=0, train binary_classification_cross_entropy_objective <loss>=0.49436467548183627\u001b[0m\n",
      "\u001b[34m#metrics {\"StartTime\": 1699089073.213283, \"EndTime\": 1699089073.2133172, \"Dimensions\": {\"Algorithm\": \"Linear Learner\", \"Host\": \"algo-1\", \"Operation\": \"training\", \"epoch\": 0, \"model\": 0}, \"Metrics\": {\"validation_binary_classification_cross_entropy_objective\": {\"sum\": 0.49353898840967564, \"count\": 1, \"min\": 0.49353898840967564, \"max\": 0.49353898840967564}}}\u001b[0m\n",
      "\u001b[34m[11/04/2023 09:11:13 INFO 139793846245184] #quality_metric: host=algo-1, epoch=0, validation binary_classification_cross_entropy_objective <loss>=0.49353898840967564\u001b[0m\n",
      "\u001b[34m[11/04/2023 09:11:13 INFO 139793846245184] #early_stopping_criteria_metric: host=algo-1, epoch=0, criteria=sampled_accuracy, value=0.7900456103595433\u001b[0m\n",
      "\u001b[34m[11/04/2023 09:11:13 INFO 139793846245184] Epoch 0: Loss improved. Updating best model\u001b[0m\n",
      "\u001b[34m[11/04/2023 09:11:13 INFO 139793846245184] Saving model for epoch: 0\u001b[0m\n",
      "\u001b[34m[11/04/2023 09:11:13 INFO 139793846245184] Saved checkpoint to \"/tmp/tmp2uvaunmi/mx-mod-0000.params\"\u001b[0m\n",
      "\u001b[34m[11/04/2023 09:11:13 INFO 139793846245184] #progress_metric: host=algo-1, completed 100.0 % of epochs\u001b[0m\n",
      "\u001b[34m#metrics {\"StartTime\": 1699089050.7235441, \"EndTime\": 1699089073.2189736, \"Dimensions\": {\"Algorithm\": \"Linear Learner\", \"Host\": \"algo-1\", \"Operation\": \"training\", \"epoch\": 0, \"Meta\": \"training_data_iter\"}, \"Metrics\": {\"Total Records Seen\": {\"sum\": 1156913.0, \"count\": 1, \"min\": 1156913, \"max\": 1156913}, \"Total Batches Seen\": {\"sum\": 1157.0, \"count\": 1, \"min\": 1157, \"max\": 1157}, \"Max Records Seen Between Resets\": {\"sum\": 1144913.0, \"count\": 1, \"min\": 1144913, \"max\": 1144913}, \"Max Batches Seen Between Resets\": {\"sum\": 1145.0, \"count\": 1, \"min\": 1145, \"max\": 1145}, \"Reset Count\": {\"sum\": 3.0, \"count\": 1, \"min\": 3, \"max\": 3}, \"Number of Records Since Last Reset\": {\"sum\": 1144913.0, \"count\": 1, \"min\": 1144913, \"max\": 1144913}, \"Number of Batches Since Last Reset\": {\"sum\": 1145.0, \"count\": 1, \"min\": 1145, \"max\": 1145}}}\u001b[0m\n",
      "\u001b[34m[11/04/2023 09:11:13 INFO 139793846245184] #throughput_metric: host=algo-1, train throughput=50895.144965097585 records/second\u001b[0m\n",
      "\u001b[34m[11/04/2023 09:11:13 WARNING 139793846245184] wait_for_all_workers will not sync workers since the kv store is not running distributed\u001b[0m\n",
      "\u001b[34m[11/04/2023 09:11:13 WARNING 139793846245184] wait_for_all_workers will not sync workers since the kv store is not running distributed\u001b[0m\n",
      "\u001b[34m[11/04/2023 09:11:17 INFO 139793846245184] #early_stopping_criteria_metric: host=algo-1, epoch=0, criteria=sampled_accuracy, value=0.7900456103595433\u001b[0m\n",
      "\u001b[34m[11/04/2023 09:11:17 INFO 139793846245184] Epoch 0: Loss improved. Updating best model\u001b[0m\n",
      "\u001b[34m[11/04/2023 09:11:21 INFO 139793846245184] #validation_score (algo-1) : ('binary_classification_cross_entropy_objective', 0.49353898840967564)\u001b[0m\n",
      "\u001b[34m[11/04/2023 09:11:21 INFO 139793846245184] #validation_score (algo-1) : ('binary_classification_accuracy', 0.7900415343667334)\u001b[0m\n",
      "\u001b[34m[11/04/2023 09:11:21 INFO 139793846245184] #validation_score (algo-1) : ('binary_f_1.000', 0.014539610874098448)\u001b[0m\n",
      "\u001b[34m[11/04/2023 09:11:21 INFO 139793846245184] #validation_score (algo-1) : ('precision', 0.5491329479768786)\u001b[0m\n",
      "\u001b[34m[11/04/2023 09:11:21 INFO 139793846245184] #validation_score (algo-1) : ('recall', 0.0073673394210822234)\u001b[0m\n",
      "\u001b[34m[11/04/2023 09:11:21 INFO 139793846245184] #validation_score (algo-1) : ('roc_auc_score', 0.6406851352496261)\u001b[0m\n",
      "\u001b[34m[11/04/2023 09:11:21 INFO 139793846245184] #validation_score (algo-1) : ('binary_balanced_accuracy', 0.5)\u001b[0m\n",
      "\u001b[34m[11/04/2023 09:11:21 INFO 139793846245184] #validation_score (algo-1) : ('binary_log_loss', 0.7548496332340902)\u001b[0m\n",
      "\u001b[34m[11/04/2023 09:11:21 INFO 139793846245184] #quality_metric: host=algo-1, validation binary_classification_cross_entropy_objective <loss>=0.49353898840967564\u001b[0m\n",
      "\u001b[34m[11/04/2023 09:11:21 INFO 139793846245184] #quality_metric: host=algo-1, validation binary_classification_accuracy <score>=0.7900415343667334\u001b[0m\n",
      "\u001b[34m[11/04/2023 09:11:21 INFO 139793846245184] #quality_metric: host=algo-1, validation binary_f_1.000 <score>=0.014539610874098448\u001b[0m\n",
      "\u001b[34m[11/04/2023 09:11:21 INFO 139793846245184] #quality_metric: host=algo-1, validation precision <score>=0.5491329479768786\u001b[0m\n",
      "\u001b[34m[11/04/2023 09:11:21 INFO 139793846245184] #quality_metric: host=algo-1, validation recall <score>=0.0073673394210822234\u001b[0m\n",
      "\u001b[34m[11/04/2023 09:11:21 INFO 139793846245184] #quality_metric: host=algo-1, validation roc_auc_score <score>=0.6406851352496261\u001b[0m\n",
      "\u001b[34m[11/04/2023 09:11:21 INFO 139793846245184] #quality_metric: host=algo-1, validation binary_balanced_accuracy <score>=0.5\u001b[0m\n",
      "\u001b[34m[11/04/2023 09:11:21 INFO 139793846245184] #quality_metric: host=algo-1, validation binary_log_loss <score>=0.7548496332340902\u001b[0m\n",
      "\u001b[34m[11/04/2023 09:11:21 INFO 139793846245184] Best model found for hyperparameters: {\"optimizer\": \"adam\", \"learning_rate\": 0.005, \"l1\": 0.0, \"wd\": 0.0001, \"lr_scheduler_step\": 10, \"lr_scheduler_factor\": 0.99, \"lr_scheduler_minimum_lr\": 1e-05}\u001b[0m\n",
      "\u001b[34m[11/04/2023 09:11:21 INFO 139793846245184] Saved checkpoint to \"/tmp/tmpip592sz7/mx-mod-0000.params\"\u001b[0m\n",
      "\u001b[34m[11/04/2023 09:11:21 INFO 139793846245184] Test data is not provided.\u001b[0m\n",
      "\u001b[34m#metrics {\"StartTime\": 1699089050.386095, \"EndTime\": 1699089081.9255927, \"Dimensions\": {\"Algorithm\": \"Linear Learner\", \"Host\": \"algo-1\", \"Operation\": \"training\"}, \"Metrics\": {\"initialize.time\": {\"sum\": 300.3652095794678, \"count\": 1, \"min\": 300.3652095794678, \"max\": 300.3652095794678}, \"epochs\": {\"sum\": 1.0, \"count\": 1, \"min\": 1, \"max\": 1}, \"check_early_stopping.time\": {\"sum\": 1.2302398681640625, \"count\": 2, \"min\": 0.47969818115234375, \"max\": 0.7505416870117188}, \"update.time\": {\"sum\": 22492.817878723145, \"count\": 1, \"min\": 22492.817878723145, \"max\": 22492.817878723145}, \"finalize.time\": {\"sum\": 8703.961849212646, \"count\": 1, \"min\": 8703.961849212646, \"max\": 8703.961849212646}, \"setuptime\": {\"sum\": 1.9669532775878906, \"count\": 1, \"min\": 1.9669532775878906, \"max\": 1.9669532775878906}, \"totaltime\": {\"sum\": 31641.76893234253, \"count\": 1, \"min\": 31641.76893234253, \"max\": 31641.76893234253}}}\u001b[0m\n",
      "\n",
      "2023-11-04 09:11:39 Uploading - Uploading generated training model\n",
      "2023-11-04 09:11:39 Completed - Training job completed\n",
      "Training seconds: 152\n",
      "Billable seconds: 152\n"
     ]
    }
   ],
   "source": [
    "#data_channels = {'train': train_channel, 'validation': validate_channel}\n",
    "linear_model1.fit({'train': training_data_channel,'validation': validation_data_channel})"
   ]
  },
  {
   "cell_type": "markdown",
   "metadata": {},
   "source": [
    "### 3. Host the model on another instance"
   ]
  },
  {
   "cell_type": "code",
   "execution_count": 14,
   "id": "100961a1",
   "metadata": {},
   "outputs": [
    {
     "name": "stderr",
     "output_type": "stream",
     "text": [
      "INFO:sagemaker:Creating model with name: xgboost-2023-11-04-02-07-22-749\n",
      "INFO:sagemaker:Creating endpoint-config with name xgboost-2023-11-04-02-07-22-749\n",
      "INFO:sagemaker:Creating endpoint with name xgboost-2023-11-04-02-07-22-749\n"
     ]
    },
    {
     "name": "stdout",
     "output_type": "stream",
     "text": [
      "-----!"
     ]
    }
   ],
   "source": [
    "### Host the Model on another instance\n",
    "xgb_predictor = linear_model1.deploy(initial_instance_count=1,\n",
    "                serializer = sagemaker.serializers.CSVSerializer(),\n",
    "                instance_type='ml.m4.xlarge')\n"
   ]
  },
  {
   "cell_type": "markdown",
   "metadata": {},
   "source": [
    "### Perform Batch transform and evaluate model on testing Data."
   ]
  },
  {
   "cell_type": "code",
   "execution_count": 15,
   "id": "cb050b7e",
   "metadata": {},
   "outputs": [
    {
     "name": "stderr",
     "output_type": "stream",
     "text": [
      "INFO:sagemaker:Creating model with name: linear-learner-2023-11-04-09-14-56-375\n"
     ]
    }
   ],
   "source": [
    "### Perform Batch transform and evaluate model on testing Data.\n",
    "transformer = linear_model1.transformer(\n",
    "    instance_count=1,\n",
    "    instance_type=\"ml.m5.2xlarge\",\n",
    "    assemble_with=\"Line\",\n",
    "    output_path=f\"s3://{bucket}/{prefix}output\"\n",
    ")"
   ]
  },
  {
   "cell_type": "code",
   "execution_count": null,
   "id": "92fbb6ff",
   "metadata": {},
   "outputs": [],
   "source": [
    "y_file = boto3.client(\"s3\").get_object(Bucket = bucket, Key = f\"{prefix}/batch_input.csv.out\")\n",
    "y_pred = pd.read_csv(io.BytesIO(y_file[\"Body\"].read()), header = None, names = [\"Predicted\"])"
   ]
  },
  {
   "cell_type": "code",
   "execution_count": null,
   "id": "213a106c",
   "metadata": {},
   "outputs": [],
   "source": [
    "y_pred[\"target\"] = y_pred.index"
   ]
  },
  {
   "cell_type": "markdown",
   "metadata": {},
   "source": [
    "### 5. Report the performance metrics that you see better test the model performance "
   ]
  },
  {
   "cell_type": "code",
   "execution_count": 34,
   "id": "707eaab1",
   "metadata": {},
   "outputs": [
    {
     "name": "stdout",
     "output_type": "stream",
     "text": [
      "Accuracy: 0.7908355004116769\n"
     ]
    }
   ],
   "source": [
    "### Model Evaluation\n",
    "### Calculating Accuracy\n",
    "predicted_values = y_pred['target'].apply(lambda x: 1 if x == 1 else 0)\n",
    "accuracy = accuracy_score(y_test, y_pred[\"actual\"])\n",
    "print(\"Accuracy:\", accuracy)"
   ]
  },
  {
   "cell_type": "code",
   "execution_count": 40,
   "id": "c543a51e",
   "metadata": {},
   "outputs": [
    {
     "name": "stderr",
     "output_type": "stream",
     "text": [
      "WARNING:matplotlib.font_manager:Matplotlib is building the font cache; this may take a moment.\n",
      "INFO:matplotlib.font_manager:generated new fontManager\n"
     ]
    },
    {
     "data": {
      "image/png": "[encoded data removed]",
      "text/plain": [
       "<Figure size 800x600 with 2 Axes>"
      ]
     },
     "metadata": {},
     "output_type": "display_data"
    }
   ],
   "source": [
    "from sklearn.metrics import confusion_matrix\n",
    "import matplotlib.pyplot as plt\n",
    "matrix = confusion_matrix(y_test, y_pred[\"actual\"])\n",
    "df_confusion = pd.DataFrame(matrix, index=['Not Delayed','Delayed'],columns=['Not Delayed','Delayed'])\n",
    "plt.figure(figsize=(8, 6))\n",
    "plt.imshow(df_confusion, cmap='Blues', interpolation='nearest')\n",
    "plt.colorbar()\n",
    "tick_marks = [i for i in range(len(df_confusion))]\n",
    "plt.xticks(tick_marks, df_confusion.columns, rotation='vertical')\n",
    "plt.yticks(tick_marks, df_confusion.index)\n",
    "plt.xlabel('Predicted')\n",
    "plt.ylabel('Actual')\n",
    "plt.title('Confusion Matrix')\n",
    "plt.show()"
   ]
  },
  {
   "cell_type": "markdown",
   "id": "bc6ff5a2",
   "metadata": {},
   "source": [
    "### 1. Split data into training, validation and testing sets (70% - 15% - 15%). ---- CSV Version 2"
   ]
  },
  {
   "cell_type": "code",
   "execution_count": null,
   "metadata": {},
   "outputs": [],
   "source": [
    "### Split Data into training, Validation & tesing set (70-15-15)% for data 1 version 2\n",
    "train, test_and_validate = train_test_split(df2, test_size=0.3) ### df2 for data version 2 from part 1\n",
    "test, validate = train_test_split(test_and_validate, test_size=0.5)\n",
    "train_file = 'train.csv'\n",
    "test_file = 'test.csv'\n",
    "validate_file = 'validate.csv'"
   ]
  },
  {
   "cell_type": "code",
   "execution_count": null,
   "metadata": {},
   "outputs": [],
   "source": [
    "x_test = test.drop(\"target\", axis =1)\n",
    "y_test = test[\"target\"]\n",
    "directory_path = 'csvfile/a'\n",
    "\n",
    "# Check if the directory exists, and if not, create it\n",
    "if not os.path.exists(directory_path):\n",
    "    os.makedirs(directory_path)\n",
    "\n",
    "file_path = os.path.join(directory_path, 'train_file')\n",
    "\n",
    "with open(file_path, 'w') as file:\n",
    "   file.write('This is some content.')\n",
    "\n",
    "train.to_csv(\"csvfile/a/train.csv\", index = False, header = False)\n",
    "validate.to_csv(\"csvfile/a/validation.csv\", index = False, header = False)\n",
    "test.to_csv(\"csvfile/a/test.csv\", index = False, header = False)"
   ]
  },
  {
   "cell_type": "markdown",
   "metadata": {},
   "source": [
    "### 2 Use the linear learner estimator to build a classification model"
   ]
  },
  {
   "cell_type": "code",
   "execution_count": null,
   "metadata": {},
   "outputs": [],
   "source": [
    "linear_learner_container = image_uris.retrieve(\"linear-learner\", region)"
   ]
  },
  {
   "cell_type": "code",
   "execution_count": null,
   "metadata": {},
   "outputs": [],
   "source": [
    "### Uploading in AWS S3\n",
    "prefix = \"data_delay/a/\"\n",
    "train_path = session.upload_data(path=\"csvfile/a/train.csv\", key_prefix=prefix + \"input/training\")\n",
    "valid_path = session.upload_data(path=\"csvfile/a/validation.csv\", key_prefix=prefix + \"input/validation\" )\n",
    "test_path = session.upload_data(path=\"csvfile/a/test.csv\", key_prefix=prefix + \"input/test\" )"
   ]
  },
  {
   "cell_type": "code",
   "execution_count": null,
   "metadata": {},
   "outputs": [],
   "source": [
    "print(train_path)\n",
    "print(valid_path)\n",
    "print(test_path)\n",
    "print(\"Files successfully uploaded in AWS SERVER !!!\")"
   ]
  },
  {
   "cell_type": "code",
   "execution_count": null,
   "metadata": {},
   "outputs": [],
   "source": [
    "linear_model2 = Estimator(linear_learner_container, \n",
    "                              role=sagemaker.get_execution_role(), \n",
    "                              instance_count=1, \n",
    "                              instance_type='ml.m5.2xlarge',\n",
    "                            output_path='s3://{}/{}a/output'.format(bucket,prefix))"
   ]
  },
  {
   "cell_type": "markdown",
   "metadata": {},
   "source": [
    "### Hyperparameter setting - To fasten the training process we used the batch size of 1000 and epochs 1"
   ]
  },
  {
   "cell_type": "code",
   "execution_count": null,
   "metadata": {},
   "outputs": [],
   "source": [
    "## Hyperparameter setting\n",
    "linear_model1.set_hyperparameters(predictor_type='binary_classifier', mini_batch_size=1000, num_models=1, num_classes=2,epochs=1)\n"
   ]
  },
  {
   "cell_type": "code",
   "execution_count": null,
   "metadata": {},
   "outputs": [],
   "source": [
    "training_data_channel = sagemaker.TrainingInput(s3_data=train_path, content_type='text/csv')\n",
    "validation_data_channel = sagemaker.TrainingInput(s3_data=valid_path, content_type='text/csv')"
   ]
  },
  {
   "cell_type": "code",
   "execution_count": null,
   "metadata": {},
   "outputs": [],
   "source": [
    "#data_channels = {'train': train_channel, 'validation': validate_channel}\n",
    "linear_model2.fit({'train': training_data_channel,'validation': validation_data_channel})"
   ]
  },
  {
   "cell_type": "markdown",
   "metadata": {},
   "source": [
    "### 3 Host the Model on another instance\n"
   ]
  },
  {
   "cell_type": "code",
   "execution_count": null,
   "metadata": {},
   "outputs": [],
   "source": [
    "xgb_predictor = linear_model1.deploy(initial_instance_count=1,\n",
    "                serializer = sagemaker.serializers.CSVSerializer(),\n",
    "                instance_type='ml.m4.xlarge')"
   ]
  },
  {
   "cell_type": "markdown",
   "metadata": {},
   "source": [
    "### 4 Perform Batch transform and evaluate model on testing Data."
   ]
  },
  {
   "cell_type": "code",
   "execution_count": null,
   "metadata": {},
   "outputs": [],
   "source": [
    "### Perform Batch transform and evaluate model on testing Data.\n",
    "transformer = linear_model1.transformer(\n",
    "    instance_count=1,\n",
    "    instance_type=\"ml.m5.2xlarge\",\n",
    "    assemble_with=\"Line\",\n",
    "    output_path=f\"s3://{bucket}/{prefix}output\"\n",
    ")"
   ]
  },
  {
   "cell_type": "code",
   "execution_count": null,
   "metadata": {},
   "outputs": [],
   "source": [
    "y_file = boto3.client(\"s3\").get_object(Bucket = bucket, Key = f\"{prefix}/batch_input.csv.out\")\n",
    "y_pred = pd.read_csv(io.BytesIO(y_file[\"Body\"].read()), header = None, names = [\"Predicted\"])\n",
    "y_pred"
   ]
  },
  {
   "cell_type": "markdown",
   "metadata": {},
   "source": [
    "5. Report the performance metrics that you see better test the model performance "
   ]
  },
  {
   "cell_type": "code",
   "execution_count": 2,
   "metadata": {},
   "outputs": [
    {
     "name": "stdout",
     "output_type": "stream",
     "text": [
      "Accuracy: 0.79034\n"
     ]
    }
   ],
   "source": [
    "### Model Evaluation\n",
    "### Calculating Accuracy\n",
    "predicted_values = y_pred['target'].apply(lambda x: 1 if x == 1 else 0)\n",
    "accuracy = accuracy_score(y_test, y_pred[\"actual\"])\n",
    "print(\"Accuracy:\", accuracy)\n"
   ]
  },
  {
   "cell_type": "code",
   "execution_count": null,
   "metadata": {},
   "outputs": [],
   "source": []
  }
 ],
 "metadata": {
  "kernelspec": {
   "display_name": "Python 3",
   "language": "python",
   "name": "python3"
  },
  "language_info": {
   "codemirror_mode": {
    "name": "ipython",
    "version": 3
   },
   "file_extension": ".py",
   "mimetype": "text/x-python",
   "name": "python",
   "nbconvert_exporter": "python",
   "pygments_lexer": "ipython3",
   "version": "3.11.4"
  }
 },
 "nbformat": 4,
 "nbformat_minor": 5
}
